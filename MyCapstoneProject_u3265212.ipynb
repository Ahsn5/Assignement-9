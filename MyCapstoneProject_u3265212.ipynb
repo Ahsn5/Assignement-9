{
  "cells": [
    {
      "cell_type": "code",
      "execution_count": 74,
      "metadata": {
        "colab": {
          "base_uri": "https://localhost:8080/"
        },
        "id": "-AJGkok4SE2Z",
        "outputId": "b1abf289-1089-4dd2-fbeb-fd8eccaa7d8c"
      },
      "outputs": [
        {
          "name": "stdout",
          "output_type": "stream",
          "text": [
            "[WinError 3] The system cannot find the path specified: '/content/drive/MyDrive/Capstone9'\n",
            "c:\\Users\\Ahsan\\Downloads\n"
          ]
        }
      ],
      "source": [
        "%cd /content/drive/MyDrive/Capstone9"
      ]
    },
    {
      "cell_type": "markdown",
      "metadata": {
        "id": "H7NA61opS1Cg"
      },
      "source": [
        "## My Capstone Project- Assignment 9\n",
        "- Car Price Predicition\n",
        "- Uses a Kaggle Database\n"
      ]
    },
    {
      "cell_type": "code",
      "execution_count": 75,
      "metadata": {
        "colab": {
          "base_uri": "https://localhost:8080/"
        },
        "id": "1oeJ7oJyahz5",
        "outputId": "614b9401-79f0-4f1f-dd4e-1e4ffd1e7f6c"
      },
      "outputs": [
        {
          "name": "stderr",
          "output_type": "stream",
          "text": [
            "'ls' is not recognized as an internal or external command,\n",
            "operable program or batch file.\n"
          ]
        }
      ],
      "source": [
        "!ls /content/drive/MyDrive/Capstone9/CarData.csv\n",
        "\n"
      ]
    },
    {
      "cell_type": "code",
      "execution_count": 76,
      "metadata": {
        "id": "jg5koS4YjSa5"
      },
      "outputs": [],
      "source": [
        "import warnings\n",
        "warnings.filterwarnings('ignore')"
      ]
    },
    {
      "cell_type": "markdown",
      "metadata": {},
      "source": [
        "## Step 1: Readind Dataset"
      ]
    },
    {
      "cell_type": "code",
      "execution_count": 77,
      "metadata": {
        "colab": {
          "base_uri": "https://localhost:8080/",
          "height": 851
        },
        "id": "SQCva_n1jOcc",
        "outputId": "25cba593-62a0-4e40-a491-95389667d700"
      },
      "outputs": [
        {
          "name": "stdout",
          "output_type": "stream",
          "text": [
            "Shape before deleting duplicate values: (6019, 14)\n",
            "Shape after deleting duplicate values: (6019, 14)\n"
          ]
        },
        {
          "data": {
            "text/html": [
              "<div>\n",
              "<style scoped>\n",
              "    .dataframe tbody tr th:only-of-type {\n",
              "        vertical-align: middle;\n",
              "    }\n",
              "\n",
              "    .dataframe tbody tr th {\n",
              "        vertical-align: top;\n",
              "    }\n",
              "\n",
              "    .dataframe thead th {\n",
              "        text-align: right;\n",
              "    }\n",
              "</style>\n",
              "<table border=\"1\" class=\"dataframe\">\n",
              "  <thead>\n",
              "    <tr style=\"text-align: right;\">\n",
              "      <th></th>\n",
              "      <th>Unnamed: 0</th>\n",
              "      <th>Name</th>\n",
              "      <th>Location</th>\n",
              "      <th>Year</th>\n",
              "      <th>Kilometers_Driven</th>\n",
              "      <th>Fuel_Type</th>\n",
              "      <th>Transmission</th>\n",
              "      <th>Owner_Type</th>\n",
              "      <th>Mileage</th>\n",
              "      <th>Engine</th>\n",
              "      <th>Power</th>\n",
              "      <th>Seats</th>\n",
              "      <th>New_Price</th>\n",
              "      <th>Price</th>\n",
              "    </tr>\n",
              "  </thead>\n",
              "  <tbody>\n",
              "    <tr>\n",
              "      <th>0</th>\n",
              "      <td>0</td>\n",
              "      <td>Maruti Wagon R LXI CNG</td>\n",
              "      <td>Mumbai</td>\n",
              "      <td>2010</td>\n",
              "      <td>72000</td>\n",
              "      <td>CNG</td>\n",
              "      <td>Manual</td>\n",
              "      <td>First</td>\n",
              "      <td>26.6 km/kg</td>\n",
              "      <td>998 CC</td>\n",
              "      <td>58.16 bhp</td>\n",
              "      <td>5.0</td>\n",
              "      <td>NaN</td>\n",
              "      <td>1.75</td>\n",
              "    </tr>\n",
              "    <tr>\n",
              "      <th>1</th>\n",
              "      <td>1</td>\n",
              "      <td>Hyundai Creta 1.6 CRDi SX Option</td>\n",
              "      <td>Pune</td>\n",
              "      <td>2015</td>\n",
              "      <td>41000</td>\n",
              "      <td>Diesel</td>\n",
              "      <td>Manual</td>\n",
              "      <td>First</td>\n",
              "      <td>19.67 kmpl</td>\n",
              "      <td>1582 CC</td>\n",
              "      <td>126.2 bhp</td>\n",
              "      <td>5.0</td>\n",
              "      <td>NaN</td>\n",
              "      <td>12.50</td>\n",
              "    </tr>\n",
              "    <tr>\n",
              "      <th>2</th>\n",
              "      <td>2</td>\n",
              "      <td>Honda Jazz V</td>\n",
              "      <td>Chennai</td>\n",
              "      <td>2011</td>\n",
              "      <td>46000</td>\n",
              "      <td>Petrol</td>\n",
              "      <td>Manual</td>\n",
              "      <td>First</td>\n",
              "      <td>18.2 kmpl</td>\n",
              "      <td>1199 CC</td>\n",
              "      <td>88.7 bhp</td>\n",
              "      <td>5.0</td>\n",
              "      <td>8.61 Lakh</td>\n",
              "      <td>4.50</td>\n",
              "    </tr>\n",
              "    <tr>\n",
              "      <th>3</th>\n",
              "      <td>3</td>\n",
              "      <td>Maruti Ertiga VDI</td>\n",
              "      <td>Chennai</td>\n",
              "      <td>2012</td>\n",
              "      <td>87000</td>\n",
              "      <td>Diesel</td>\n",
              "      <td>Manual</td>\n",
              "      <td>First</td>\n",
              "      <td>20.77 kmpl</td>\n",
              "      <td>1248 CC</td>\n",
              "      <td>88.76 bhp</td>\n",
              "      <td>7.0</td>\n",
              "      <td>NaN</td>\n",
              "      <td>6.00</td>\n",
              "    </tr>\n",
              "    <tr>\n",
              "      <th>4</th>\n",
              "      <td>4</td>\n",
              "      <td>Audi A4 New 2.0 TDI Multitronic</td>\n",
              "      <td>Coimbatore</td>\n",
              "      <td>2013</td>\n",
              "      <td>40670</td>\n",
              "      <td>Diesel</td>\n",
              "      <td>Automatic</td>\n",
              "      <td>Second</td>\n",
              "      <td>15.2 kmpl</td>\n",
              "      <td>1968 CC</td>\n",
              "      <td>140.8 bhp</td>\n",
              "      <td>5.0</td>\n",
              "      <td>NaN</td>\n",
              "      <td>17.74</td>\n",
              "    </tr>\n",
              "    <tr>\n",
              "      <th>5</th>\n",
              "      <td>5</td>\n",
              "      <td>Hyundai EON LPG Era Plus Option</td>\n",
              "      <td>Hyderabad</td>\n",
              "      <td>2012</td>\n",
              "      <td>75000</td>\n",
              "      <td>LPG</td>\n",
              "      <td>Manual</td>\n",
              "      <td>First</td>\n",
              "      <td>21.1 km/kg</td>\n",
              "      <td>814 CC</td>\n",
              "      <td>55.2 bhp</td>\n",
              "      <td>5.0</td>\n",
              "      <td>NaN</td>\n",
              "      <td>2.35</td>\n",
              "    </tr>\n",
              "    <tr>\n",
              "      <th>6</th>\n",
              "      <td>6</td>\n",
              "      <td>Nissan Micra Diesel XV</td>\n",
              "      <td>Jaipur</td>\n",
              "      <td>2013</td>\n",
              "      <td>86999</td>\n",
              "      <td>Diesel</td>\n",
              "      <td>Manual</td>\n",
              "      <td>First</td>\n",
              "      <td>23.08 kmpl</td>\n",
              "      <td>1461 CC</td>\n",
              "      <td>63.1 bhp</td>\n",
              "      <td>5.0</td>\n",
              "      <td>NaN</td>\n",
              "      <td>3.50</td>\n",
              "    </tr>\n",
              "    <tr>\n",
              "      <th>7</th>\n",
              "      <td>7</td>\n",
              "      <td>Toyota Innova Crysta 2.8 GX AT 8S</td>\n",
              "      <td>Mumbai</td>\n",
              "      <td>2016</td>\n",
              "      <td>36000</td>\n",
              "      <td>Diesel</td>\n",
              "      <td>Automatic</td>\n",
              "      <td>First</td>\n",
              "      <td>11.36 kmpl</td>\n",
              "      <td>2755 CC</td>\n",
              "      <td>171.5 bhp</td>\n",
              "      <td>8.0</td>\n",
              "      <td>21 Lakh</td>\n",
              "      <td>17.50</td>\n",
              "    </tr>\n",
              "    <tr>\n",
              "      <th>8</th>\n",
              "      <td>8</td>\n",
              "      <td>Volkswagen Vento Diesel Comfortline</td>\n",
              "      <td>Pune</td>\n",
              "      <td>2013</td>\n",
              "      <td>64430</td>\n",
              "      <td>Diesel</td>\n",
              "      <td>Manual</td>\n",
              "      <td>First</td>\n",
              "      <td>20.54 kmpl</td>\n",
              "      <td>1598 CC</td>\n",
              "      <td>103.6 bhp</td>\n",
              "      <td>5.0</td>\n",
              "      <td>NaN</td>\n",
              "      <td>5.20</td>\n",
              "    </tr>\n",
              "    <tr>\n",
              "      <th>9</th>\n",
              "      <td>9</td>\n",
              "      <td>Tata Indica Vista Quadrajet LS</td>\n",
              "      <td>Chennai</td>\n",
              "      <td>2012</td>\n",
              "      <td>65932</td>\n",
              "      <td>Diesel</td>\n",
              "      <td>Manual</td>\n",
              "      <td>Second</td>\n",
              "      <td>22.3 kmpl</td>\n",
              "      <td>1248 CC</td>\n",
              "      <td>74 bhp</td>\n",
              "      <td>5.0</td>\n",
              "      <td>NaN</td>\n",
              "      <td>1.95</td>\n",
              "    </tr>\n",
              "  </tbody>\n",
              "</table>\n",
              "</div>"
            ],
            "text/plain": [
              "   Unnamed: 0                                 Name    Location  Year  \\\n",
              "0           0               Maruti Wagon R LXI CNG      Mumbai  2010   \n",
              "1           1     Hyundai Creta 1.6 CRDi SX Option        Pune  2015   \n",
              "2           2                         Honda Jazz V     Chennai  2011   \n",
              "3           3                    Maruti Ertiga VDI     Chennai  2012   \n",
              "4           4      Audi A4 New 2.0 TDI Multitronic  Coimbatore  2013   \n",
              "5           5      Hyundai EON LPG Era Plus Option   Hyderabad  2012   \n",
              "6           6               Nissan Micra Diesel XV      Jaipur  2013   \n",
              "7           7    Toyota Innova Crysta 2.8 GX AT 8S      Mumbai  2016   \n",
              "8           8  Volkswagen Vento Diesel Comfortline        Pune  2013   \n",
              "9           9       Tata Indica Vista Quadrajet LS     Chennai  2012   \n",
              "\n",
              "   Kilometers_Driven Fuel_Type Transmission Owner_Type     Mileage   Engine  \\\n",
              "0              72000       CNG       Manual      First  26.6 km/kg   998 CC   \n",
              "1              41000    Diesel       Manual      First  19.67 kmpl  1582 CC   \n",
              "2              46000    Petrol       Manual      First   18.2 kmpl  1199 CC   \n",
              "3              87000    Diesel       Manual      First  20.77 kmpl  1248 CC   \n",
              "4              40670    Diesel    Automatic     Second   15.2 kmpl  1968 CC   \n",
              "5              75000       LPG       Manual      First  21.1 km/kg   814 CC   \n",
              "6              86999    Diesel       Manual      First  23.08 kmpl  1461 CC   \n",
              "7              36000    Diesel    Automatic      First  11.36 kmpl  2755 CC   \n",
              "8              64430    Diesel       Manual      First  20.54 kmpl  1598 CC   \n",
              "9              65932    Diesel       Manual     Second   22.3 kmpl  1248 CC   \n",
              "\n",
              "       Power  Seats  New_Price  Price  \n",
              "0  58.16 bhp    5.0        NaN   1.75  \n",
              "1  126.2 bhp    5.0        NaN  12.50  \n",
              "2   88.7 bhp    5.0  8.61 Lakh   4.50  \n",
              "3  88.76 bhp    7.0        NaN   6.00  \n",
              "4  140.8 bhp    5.0        NaN  17.74  \n",
              "5   55.2 bhp    5.0        NaN   2.35  \n",
              "6   63.1 bhp    5.0        NaN   3.50  \n",
              "7  171.5 bhp    8.0    21 Lakh  17.50  \n",
              "8  103.6 bhp    5.0        NaN   5.20  \n",
              "9     74 bhp    5.0        NaN   1.95  "
            ]
          },
          "execution_count": 77,
          "metadata": {},
          "output_type": "execute_result"
        }
      ],
      "source": [
        "# Reading the dataset\n",
        "import pandas as pd\n",
        "import numpy as np\n",
        "\n",
        "CarData = pd.read_csv(r'C:\\Users\\Ahsan\\OneDrive\\Desktop\\Assignement 9\\CarData.csv', encoding='latin1')\n",
        "print('Shape before deleting duplicate values:', CarData.shape)\n",
        "\n",
        "# Removing duplicate rows\n",
        "CarData=CarData.drop_duplicates()\n",
        "\n",
        "print('Shape after deleting duplicate values:', CarData.shape)\n",
        "\n",
        "# Printing sample data\n",
        "# Start observing the Quantitative/Categorical/Qualitative variables\n",
        "CarData.head(10)\n"
      ]
    },
    {
      "cell_type": "markdown",
      "metadata": {
        "id": "uoVvK62mbSVx"
      },
      "source": [
        "## Step 2: Problem Statement Definition\n",
        "- Creating a pridiction model to predict Price of car\n",
        "-Target Variable:Name\tLocation\tYear\tKilometers_Driven\tFuel_Type\tTransmission\tOwner_Type\tMileage\tEngine\tPower\tSeats\tNew_Price etc"
      ]
    },
    {
      "cell_type": "markdown",
      "metadata": {
        "id": "pKHEMbZec4Qu"
      },
      "source": [
        "## Step 3:Random Forest Regressor"
      ]
    },
    {
      "cell_type": "markdown",
      "metadata": {
        "id": "MPQceFSad9kX"
      },
      "source": [
        "# Step 4: Looking at the class distribution, Target variable distribution to check if the data is balanced or skewed."
      ]
    },
    {
      "cell_type": "code",
      "execution_count": 78,
      "metadata": {
        "colab": {
          "base_uri": "https://localhost:8080/",
          "height": 430
        },
        "id": "sbLQMvrLjuxF",
        "outputId": "df502ef2-1067-4774-873d-94f41c16f117"
      },
      "outputs": [
        {
          "data": {
            "image/png": "[encoded data removed]",
            "text/plain": [
              "<Figure size 640x480 with 1 Axes>"
            ]
          },
          "metadata": {},
          "output_type": "display_data"
        }
      ],
      "source": [
        "\n",
        "%matplotlib inline\n",
        "\n",
        "# Creating histogram as the Target variable is Continuous\n",
        "# This will help us to understand the distribution of the target variable values\n",
        "\n",
        "CarData['Price'].hist()\n",
        "CarData['Price'] = np.log(CarData['Price'])\n",
        "\n"
      ]
    },
    {
      "cell_type": "markdown",
      "metadata": {
        "id": "AO3PGL-MlDCd"
      },
      "source": [
        " ## Step 5: Basic Exploratory Data Analysis\n",
        "\n"
      ]
    },
    {
      "cell_type": "code",
      "execution_count": 79,
      "metadata": {
        "colab": {
          "base_uri": "https://localhost:8080/",
          "height": 417
        },
        "id": "bplMECYknfBI",
        "outputId": "00302e9d-b30d-4c24-8f21-46ead7013921"
      },
      "outputs": [
        {
          "data": {
            "text/html": [
              "<div>\n",
              "<style scoped>\n",
              "    .dataframe tbody tr th:only-of-type {\n",
              "        vertical-align: middle;\n",
              "    }\n",
              "\n",
              "    .dataframe tbody tr th {\n",
              "        vertical-align: top;\n",
              "    }\n",
              "\n",
              "    .dataframe thead th {\n",
              "        text-align: right;\n",
              "    }\n",
              "</style>\n",
              "<table border=\"1\" class=\"dataframe\">\n",
              "  <thead>\n",
              "    <tr style=\"text-align: right;\">\n",
              "      <th></th>\n",
              "      <th>Unnamed: 0</th>\n",
              "      <th>Name</th>\n",
              "      <th>Location</th>\n",
              "      <th>Year</th>\n",
              "      <th>Kilometers_Driven</th>\n",
              "      <th>Fuel_Type</th>\n",
              "      <th>Transmission</th>\n",
              "      <th>Owner_Type</th>\n",
              "      <th>Mileage</th>\n",
              "      <th>Engine</th>\n",
              "      <th>Power</th>\n",
              "      <th>Seats</th>\n",
              "      <th>New_Price</th>\n",
              "      <th>Price</th>\n",
              "    </tr>\n",
              "  </thead>\n",
              "  <tbody>\n",
              "    <tr>\n",
              "      <th>0</th>\n",
              "      <td>0</td>\n",
              "      <td>Maruti Wagon R LXI CNG</td>\n",
              "      <td>Mumbai</td>\n",
              "      <td>2010</td>\n",
              "      <td>72000</td>\n",
              "      <td>CNG</td>\n",
              "      <td>Manual</td>\n",
              "      <td>First</td>\n",
              "      <td>26.6 km/kg</td>\n",
              "      <td>998 CC</td>\n",
              "      <td>58.16 bhp</td>\n",
              "      <td>5.0</td>\n",
              "      <td>NaN</td>\n",
              "      <td>0.559616</td>\n",
              "    </tr>\n",
              "    <tr>\n",
              "      <th>1</th>\n",
              "      <td>1</td>\n",
              "      <td>Hyundai Creta 1.6 CRDi SX Option</td>\n",
              "      <td>Pune</td>\n",
              "      <td>2015</td>\n",
              "      <td>41000</td>\n",
              "      <td>Diesel</td>\n",
              "      <td>Manual</td>\n",
              "      <td>First</td>\n",
              "      <td>19.67 kmpl</td>\n",
              "      <td>1582 CC</td>\n",
              "      <td>126.2 bhp</td>\n",
              "      <td>5.0</td>\n",
              "      <td>NaN</td>\n",
              "      <td>2.525729</td>\n",
              "    </tr>\n",
              "    <tr>\n",
              "      <th>2</th>\n",
              "      <td>2</td>\n",
              "      <td>Honda Jazz V</td>\n",
              "      <td>Chennai</td>\n",
              "      <td>2011</td>\n",
              "      <td>46000</td>\n",
              "      <td>Petrol</td>\n",
              "      <td>Manual</td>\n",
              "      <td>First</td>\n",
              "      <td>18.2 kmpl</td>\n",
              "      <td>1199 CC</td>\n",
              "      <td>88.7 bhp</td>\n",
              "      <td>5.0</td>\n",
              "      <td>8.61 Lakh</td>\n",
              "      <td>1.504077</td>\n",
              "    </tr>\n",
              "    <tr>\n",
              "      <th>3</th>\n",
              "      <td>3</td>\n",
              "      <td>Maruti Ertiga VDI</td>\n",
              "      <td>Chennai</td>\n",
              "      <td>2012</td>\n",
              "      <td>87000</td>\n",
              "      <td>Diesel</td>\n",
              "      <td>Manual</td>\n",
              "      <td>First</td>\n",
              "      <td>20.77 kmpl</td>\n",
              "      <td>1248 CC</td>\n",
              "      <td>88.76 bhp</td>\n",
              "      <td>7.0</td>\n",
              "      <td>NaN</td>\n",
              "      <td>1.791759</td>\n",
              "    </tr>\n",
              "    <tr>\n",
              "      <th>4</th>\n",
              "      <td>4</td>\n",
              "      <td>Audi A4 New 2.0 TDI Multitronic</td>\n",
              "      <td>Coimbatore</td>\n",
              "      <td>2013</td>\n",
              "      <td>40670</td>\n",
              "      <td>Diesel</td>\n",
              "      <td>Automatic</td>\n",
              "      <td>Second</td>\n",
              "      <td>15.2 kmpl</td>\n",
              "      <td>1968 CC</td>\n",
              "      <td>140.8 bhp</td>\n",
              "      <td>5.0</td>\n",
              "      <td>NaN</td>\n",
              "      <td>2.875822</td>\n",
              "    </tr>\n",
              "  </tbody>\n",
              "</table>\n",
              "</div>"
            ],
            "text/plain": [
              "   Unnamed: 0                              Name    Location  Year  \\\n",
              "0           0            Maruti Wagon R LXI CNG      Mumbai  2010   \n",
              "1           1  Hyundai Creta 1.6 CRDi SX Option        Pune  2015   \n",
              "2           2                      Honda Jazz V     Chennai  2011   \n",
              "3           3                 Maruti Ertiga VDI     Chennai  2012   \n",
              "4           4   Audi A4 New 2.0 TDI Multitronic  Coimbatore  2013   \n",
              "\n",
              "   Kilometers_Driven Fuel_Type Transmission Owner_Type     Mileage   Engine  \\\n",
              "0              72000       CNG       Manual      First  26.6 km/kg   998 CC   \n",
              "1              41000    Diesel       Manual      First  19.67 kmpl  1582 CC   \n",
              "2              46000    Petrol       Manual      First   18.2 kmpl  1199 CC   \n",
              "3              87000    Diesel       Manual      First  20.77 kmpl  1248 CC   \n",
              "4              40670    Diesel    Automatic     Second   15.2 kmpl  1968 CC   \n",
              "\n",
              "       Power  Seats  New_Price     Price  \n",
              "0  58.16 bhp    5.0        NaN  0.559616  \n",
              "1  126.2 bhp    5.0        NaN  2.525729  \n",
              "2   88.7 bhp    5.0  8.61 Lakh  1.504077  \n",
              "3  88.76 bhp    7.0        NaN  1.791759  \n",
              "4  140.8 bhp    5.0        NaN  2.875822  "
            ]
          },
          "execution_count": 79,
          "metadata": {},
          "output_type": "execute_result"
        }
      ],
      "source": [
        "# Sample data for first 5 rows\n",
        "CarData.head()"
      ]
    },
    {
      "cell_type": "code",
      "execution_count": 80,
      "metadata": {
        "colab": {
          "base_uri": "https://localhost:8080/",
          "height": 399
        },
        "id": "oXDIKVnJnqGM",
        "outputId": "f598bc5f-fa0d-43ad-d579-559dffc5f92c"
      },
      "outputs": [
        {
          "data": {
            "text/html": [
              "<div>\n",
              "<style scoped>\n",
              "    .dataframe tbody tr th:only-of-type {\n",
              "        vertical-align: middle;\n",
              "    }\n",
              "\n",
              "    .dataframe tbody tr th {\n",
              "        vertical-align: top;\n",
              "    }\n",
              "\n",
              "    .dataframe thead th {\n",
              "        text-align: right;\n",
              "    }\n",
              "</style>\n",
              "<table border=\"1\" class=\"dataframe\">\n",
              "  <thead>\n",
              "    <tr style=\"text-align: right;\">\n",
              "      <th></th>\n",
              "      <th>Unnamed: 0</th>\n",
              "      <th>Name</th>\n",
              "      <th>Location</th>\n",
              "      <th>Year</th>\n",
              "      <th>Kilometers_Driven</th>\n",
              "      <th>Fuel_Type</th>\n",
              "      <th>Transmission</th>\n",
              "      <th>Owner_Type</th>\n",
              "      <th>Mileage</th>\n",
              "      <th>Engine</th>\n",
              "      <th>Power</th>\n",
              "      <th>Seats</th>\n",
              "      <th>New_Price</th>\n",
              "      <th>Price</th>\n",
              "    </tr>\n",
              "  </thead>\n",
              "  <tbody>\n",
              "    <tr>\n",
              "      <th>6014</th>\n",
              "      <td>6014</td>\n",
              "      <td>Maruti Swift VDI</td>\n",
              "      <td>Delhi</td>\n",
              "      <td>2014</td>\n",
              "      <td>27365</td>\n",
              "      <td>Diesel</td>\n",
              "      <td>Manual</td>\n",
              "      <td>First</td>\n",
              "      <td>28.4 kmpl</td>\n",
              "      <td>1248 CC</td>\n",
              "      <td>74 bhp</td>\n",
              "      <td>5.0</td>\n",
              "      <td>7.88 Lakh</td>\n",
              "      <td>1.558145</td>\n",
              "    </tr>\n",
              "    <tr>\n",
              "      <th>6015</th>\n",
              "      <td>6015</td>\n",
              "      <td>Hyundai Xcent 1.1 CRDi S</td>\n",
              "      <td>Jaipur</td>\n",
              "      <td>2015</td>\n",
              "      <td>100000</td>\n",
              "      <td>Diesel</td>\n",
              "      <td>Manual</td>\n",
              "      <td>First</td>\n",
              "      <td>24.4 kmpl</td>\n",
              "      <td>1120 CC</td>\n",
              "      <td>71 bhp</td>\n",
              "      <td>5.0</td>\n",
              "      <td>NaN</td>\n",
              "      <td>1.386294</td>\n",
              "    </tr>\n",
              "    <tr>\n",
              "      <th>6016</th>\n",
              "      <td>6016</td>\n",
              "      <td>Mahindra Xylo D4 BSIV</td>\n",
              "      <td>Jaipur</td>\n",
              "      <td>2012</td>\n",
              "      <td>55000</td>\n",
              "      <td>Diesel</td>\n",
              "      <td>Manual</td>\n",
              "      <td>Second</td>\n",
              "      <td>14.0 kmpl</td>\n",
              "      <td>2498 CC</td>\n",
              "      <td>112 bhp</td>\n",
              "      <td>8.0</td>\n",
              "      <td>NaN</td>\n",
              "      <td>1.064711</td>\n",
              "    </tr>\n",
              "    <tr>\n",
              "      <th>6017</th>\n",
              "      <td>6017</td>\n",
              "      <td>Maruti Wagon R VXI</td>\n",
              "      <td>Kolkata</td>\n",
              "      <td>2013</td>\n",
              "      <td>46000</td>\n",
              "      <td>Petrol</td>\n",
              "      <td>Manual</td>\n",
              "      <td>First</td>\n",
              "      <td>18.9 kmpl</td>\n",
              "      <td>998 CC</td>\n",
              "      <td>67.1 bhp</td>\n",
              "      <td>5.0</td>\n",
              "      <td>NaN</td>\n",
              "      <td>0.974560</td>\n",
              "    </tr>\n",
              "    <tr>\n",
              "      <th>6018</th>\n",
              "      <td>6018</td>\n",
              "      <td>Chevrolet Beat Diesel</td>\n",
              "      <td>Hyderabad</td>\n",
              "      <td>2011</td>\n",
              "      <td>47000</td>\n",
              "      <td>Diesel</td>\n",
              "      <td>Manual</td>\n",
              "      <td>First</td>\n",
              "      <td>25.44 kmpl</td>\n",
              "      <td>936 CC</td>\n",
              "      <td>57.6 bhp</td>\n",
              "      <td>5.0</td>\n",
              "      <td>NaN</td>\n",
              "      <td>0.916291</td>\n",
              "    </tr>\n",
              "  </tbody>\n",
              "</table>\n",
              "</div>"
            ],
            "text/plain": [
              "      Unnamed: 0                      Name   Location  Year  \\\n",
              "6014        6014          Maruti Swift VDI      Delhi  2014   \n",
              "6015        6015  Hyundai Xcent 1.1 CRDi S     Jaipur  2015   \n",
              "6016        6016     Mahindra Xylo D4 BSIV     Jaipur  2012   \n",
              "6017        6017        Maruti Wagon R VXI    Kolkata  2013   \n",
              "6018        6018     Chevrolet Beat Diesel  Hyderabad  2011   \n",
              "\n",
              "      Kilometers_Driven Fuel_Type Transmission Owner_Type     Mileage  \\\n",
              "6014              27365    Diesel       Manual      First   28.4 kmpl   \n",
              "6015             100000    Diesel       Manual      First   24.4 kmpl   \n",
              "6016              55000    Diesel       Manual     Second   14.0 kmpl   \n",
              "6017              46000    Petrol       Manual      First   18.9 kmpl   \n",
              "6018              47000    Diesel       Manual      First  25.44 kmpl   \n",
              "\n",
              "       Engine     Power  Seats  New_Price     Price  \n",
              "6014  1248 CC    74 bhp    5.0  7.88 Lakh  1.558145  \n",
              "6015  1120 CC    71 bhp    5.0        NaN  1.386294  \n",
              "6016  2498 CC   112 bhp    8.0        NaN  1.064711  \n",
              "6017   998 CC  67.1 bhp    5.0        NaN  0.974560  \n",
              "6018   936 CC  57.6 bhp    5.0        NaN  0.916291  "
            ]
          },
          "execution_count": 80,
          "metadata": {},
          "output_type": "execute_result"
        }
      ],
      "source": [
        "# Sample Data for bottom 5 rows\n",
        "CarData.tail()\n"
      ]
    },
    {
      "cell_type": "code",
      "execution_count": 81,
      "metadata": {
        "colab": {
          "base_uri": "https://localhost:8080/"
        },
        "id": "X7okrdgrqmuZ",
        "outputId": "2d647028-682f-408a-9ce8-5fc87b7c8b44"
      },
      "outputs": [
        {
          "name": "stdout",
          "output_type": "stream",
          "text": [
            "<class 'pandas.core.frame.DataFrame'>\n",
            "RangeIndex: 6019 entries, 0 to 6018\n",
            "Data columns (total 14 columns):\n",
            " #   Column             Non-Null Count  Dtype  \n",
            "---  ------             --------------  -----  \n",
            " 0   Unnamed: 0         6019 non-null   int64  \n",
            " 1   Name               6019 non-null   object \n",
            " 2   Location           6019 non-null   object \n",
            " 3   Year               6019 non-null   int64  \n",
            " 4   Kilometers_Driven  6019 non-null   int64  \n",
            " 5   Fuel_Type          6019 non-null   object \n",
            " 6   Transmission       6019 non-null   object \n",
            " 7   Owner_Type         6019 non-null   object \n",
            " 8   Mileage            6017 non-null   object \n",
            " 9   Engine             5983 non-null   object \n",
            " 10  Power              5983 non-null   object \n",
            " 11  Seats              5977 non-null   float64\n",
            " 12  New_Price          824 non-null    object \n",
            " 13  Price              6019 non-null   float64\n",
            "dtypes: float64(2), int64(3), object(9)\n",
            "memory usage: 658.5+ KB\n"
          ]
        }
      ],
      "source": [
        "# Summarized Information\n",
        "CarData.info()"
      ]
    },
    {
      "cell_type": "code",
      "execution_count": 82,
      "metadata": {
        "colab": {
          "base_uri": "https://localhost:8080/",
          "height": 449
        },
        "id": "VJ7nO4L4tjRL",
        "outputId": "12d0feaf-bb3d-4c74-a99a-207965a156c4"
      },
      "outputs": [
        {
          "data": {
            "text/html": [
              "<div>\n",
              "<style scoped>\n",
              "    .dataframe tbody tr th:only-of-type {\n",
              "        vertical-align: middle;\n",
              "    }\n",
              "\n",
              "    .dataframe tbody tr th {\n",
              "        vertical-align: top;\n",
              "    }\n",
              "\n",
              "    .dataframe thead th {\n",
              "        text-align: right;\n",
              "    }\n",
              "</style>\n",
              "<table border=\"1\" class=\"dataframe\">\n",
              "  <thead>\n",
              "    <tr style=\"text-align: right;\">\n",
              "      <th></th>\n",
              "      <th>Unnamed: 0</th>\n",
              "      <th>Name</th>\n",
              "      <th>Location</th>\n",
              "      <th>Year</th>\n",
              "      <th>Kilometers_Driven</th>\n",
              "      <th>Fuel_Type</th>\n",
              "      <th>Transmission</th>\n",
              "      <th>Owner_Type</th>\n",
              "      <th>Mileage</th>\n",
              "      <th>Engine</th>\n",
              "      <th>Power</th>\n",
              "      <th>Seats</th>\n",
              "      <th>New_Price</th>\n",
              "      <th>Price</th>\n",
              "    </tr>\n",
              "  </thead>\n",
              "  <tbody>\n",
              "    <tr>\n",
              "      <th>count</th>\n",
              "      <td>6019.000000</td>\n",
              "      <td>6019</td>\n",
              "      <td>6019</td>\n",
              "      <td>6019.000000</td>\n",
              "      <td>6.019000e+03</td>\n",
              "      <td>6019</td>\n",
              "      <td>6019</td>\n",
              "      <td>6019</td>\n",
              "      <td>6017</td>\n",
              "      <td>5983</td>\n",
              "      <td>5983</td>\n",
              "      <td>5977.000000</td>\n",
              "      <td>824</td>\n",
              "      <td>6019.000000</td>\n",
              "    </tr>\n",
              "    <tr>\n",
              "      <th>unique</th>\n",
              "      <td>NaN</td>\n",
              "      <td>1876</td>\n",
              "      <td>11</td>\n",
              "      <td>NaN</td>\n",
              "      <td>NaN</td>\n",
              "      <td>5</td>\n",
              "      <td>2</td>\n",
              "      <td>4</td>\n",
              "      <td>442</td>\n",
              "      <td>146</td>\n",
              "      <td>372</td>\n",
              "      <td>NaN</td>\n",
              "      <td>540</td>\n",
              "      <td>NaN</td>\n",
              "    </tr>\n",
              "    <tr>\n",
              "      <th>top</th>\n",
              "      <td>NaN</td>\n",
              "      <td>Mahindra XUV500 W8 2WD</td>\n",
              "      <td>Mumbai</td>\n",
              "      <td>NaN</td>\n",
              "      <td>NaN</td>\n",
              "      <td>Diesel</td>\n",
              "      <td>Manual</td>\n",
              "      <td>First</td>\n",
              "      <td>18.9 kmpl</td>\n",
              "      <td>1197 CC</td>\n",
              "      <td>74 bhp</td>\n",
              "      <td>NaN</td>\n",
              "      <td>95.13 Lakh</td>\n",
              "      <td>NaN</td>\n",
              "    </tr>\n",
              "    <tr>\n",
              "      <th>freq</th>\n",
              "      <td>NaN</td>\n",
              "      <td>49</td>\n",
              "      <td>790</td>\n",
              "      <td>NaN</td>\n",
              "      <td>NaN</td>\n",
              "      <td>3205</td>\n",
              "      <td>4299</td>\n",
              "      <td>4929</td>\n",
              "      <td>172</td>\n",
              "      <td>606</td>\n",
              "      <td>235</td>\n",
              "      <td>NaN</td>\n",
              "      <td>6</td>\n",
              "      <td>NaN</td>\n",
              "    </tr>\n",
              "    <tr>\n",
              "      <th>mean</th>\n",
              "      <td>3009.000000</td>\n",
              "      <td>NaN</td>\n",
              "      <td>NaN</td>\n",
              "      <td>2013.358199</td>\n",
              "      <td>5.873838e+04</td>\n",
              "      <td>NaN</td>\n",
              "      <td>NaN</td>\n",
              "      <td>NaN</td>\n",
              "      <td>NaN</td>\n",
              "      <td>NaN</td>\n",
              "      <td>NaN</td>\n",
              "      <td>5.278735</td>\n",
              "      <td>NaN</td>\n",
              "      <td>1.825095</td>\n",
              "    </tr>\n",
              "    <tr>\n",
              "      <th>std</th>\n",
              "      <td>1737.679967</td>\n",
              "      <td>NaN</td>\n",
              "      <td>NaN</td>\n",
              "      <td>3.269742</td>\n",
              "      <td>9.126884e+04</td>\n",
              "      <td>NaN</td>\n",
              "      <td>NaN</td>\n",
              "      <td>NaN</td>\n",
              "      <td>NaN</td>\n",
              "      <td>NaN</td>\n",
              "      <td>NaN</td>\n",
              "      <td>0.808840</td>\n",
              "      <td>NaN</td>\n",
              "      <td>0.874059</td>\n",
              "    </tr>\n",
              "    <tr>\n",
              "      <th>min</th>\n",
              "      <td>0.000000</td>\n",
              "      <td>NaN</td>\n",
              "      <td>NaN</td>\n",
              "      <td>1998.000000</td>\n",
              "      <td>1.710000e+02</td>\n",
              "      <td>NaN</td>\n",
              "      <td>NaN</td>\n",
              "      <td>NaN</td>\n",
              "      <td>NaN</td>\n",
              "      <td>NaN</td>\n",
              "      <td>NaN</td>\n",
              "      <td>0.000000</td>\n",
              "      <td>NaN</td>\n",
              "      <td>-0.820981</td>\n",
              "    </tr>\n",
              "    <tr>\n",
              "      <th>25%</th>\n",
              "      <td>1504.500000</td>\n",
              "      <td>NaN</td>\n",
              "      <td>NaN</td>\n",
              "      <td>2011.000000</td>\n",
              "      <td>3.400000e+04</td>\n",
              "      <td>NaN</td>\n",
              "      <td>NaN</td>\n",
              "      <td>NaN</td>\n",
              "      <td>NaN</td>\n",
              "      <td>NaN</td>\n",
              "      <td>NaN</td>\n",
              "      <td>5.000000</td>\n",
              "      <td>NaN</td>\n",
              "      <td>1.252763</td>\n",
              "    </tr>\n",
              "    <tr>\n",
              "      <th>50%</th>\n",
              "      <td>3009.000000</td>\n",
              "      <td>NaN</td>\n",
              "      <td>NaN</td>\n",
              "      <td>2014.000000</td>\n",
              "      <td>5.300000e+04</td>\n",
              "      <td>NaN</td>\n",
              "      <td>NaN</td>\n",
              "      <td>NaN</td>\n",
              "      <td>NaN</td>\n",
              "      <td>NaN</td>\n",
              "      <td>NaN</td>\n",
              "      <td>5.000000</td>\n",
              "      <td>NaN</td>\n",
              "      <td>1.729884</td>\n",
              "    </tr>\n",
              "    <tr>\n",
              "      <th>75%</th>\n",
              "      <td>4513.500000</td>\n",
              "      <td>NaN</td>\n",
              "      <td>NaN</td>\n",
              "      <td>2016.000000</td>\n",
              "      <td>7.300000e+04</td>\n",
              "      <td>NaN</td>\n",
              "      <td>NaN</td>\n",
              "      <td>NaN</td>\n",
              "      <td>NaN</td>\n",
              "      <td>NaN</td>\n",
              "      <td>NaN</td>\n",
              "      <td>5.000000</td>\n",
              "      <td>NaN</td>\n",
              "      <td>2.297573</td>\n",
              "    </tr>\n",
              "    <tr>\n",
              "      <th>max</th>\n",
              "      <td>6018.000000</td>\n",
              "      <td>NaN</td>\n",
              "      <td>NaN</td>\n",
              "      <td>2019.000000</td>\n",
              "      <td>6.500000e+06</td>\n",
              "      <td>NaN</td>\n",
              "      <td>NaN</td>\n",
              "      <td>NaN</td>\n",
              "      <td>NaN</td>\n",
              "      <td>NaN</td>\n",
              "      <td>NaN</td>\n",
              "      <td>10.000000</td>\n",
              "      <td>NaN</td>\n",
              "      <td>5.075174</td>\n",
              "    </tr>\n",
              "  </tbody>\n",
              "</table>\n",
              "</div>"
            ],
            "text/plain": [
              "         Unnamed: 0                    Name Location         Year  \\\n",
              "count   6019.000000                    6019     6019  6019.000000   \n",
              "unique          NaN                    1876       11          NaN   \n",
              "top             NaN  Mahindra XUV500 W8 2WD   Mumbai          NaN   \n",
              "freq            NaN                      49      790          NaN   \n",
              "mean    3009.000000                     NaN      NaN  2013.358199   \n",
              "std     1737.679967                     NaN      NaN     3.269742   \n",
              "min        0.000000                     NaN      NaN  1998.000000   \n",
              "25%     1504.500000                     NaN      NaN  2011.000000   \n",
              "50%     3009.000000                     NaN      NaN  2014.000000   \n",
              "75%     4513.500000                     NaN      NaN  2016.000000   \n",
              "max     6018.000000                     NaN      NaN  2019.000000   \n",
              "\n",
              "        Kilometers_Driven Fuel_Type Transmission Owner_Type    Mileage  \\\n",
              "count        6.019000e+03      6019         6019       6019       6017   \n",
              "unique                NaN         5            2          4        442   \n",
              "top                   NaN    Diesel       Manual      First  18.9 kmpl   \n",
              "freq                  NaN      3205         4299       4929        172   \n",
              "mean         5.873838e+04       NaN          NaN        NaN        NaN   \n",
              "std          9.126884e+04       NaN          NaN        NaN        NaN   \n",
              "min          1.710000e+02       NaN          NaN        NaN        NaN   \n",
              "25%          3.400000e+04       NaN          NaN        NaN        NaN   \n",
              "50%          5.300000e+04       NaN          NaN        NaN        NaN   \n",
              "75%          7.300000e+04       NaN          NaN        NaN        NaN   \n",
              "max          6.500000e+06       NaN          NaN        NaN        NaN   \n",
              "\n",
              "         Engine   Power        Seats   New_Price        Price  \n",
              "count      5983    5983  5977.000000         824  6019.000000  \n",
              "unique      146     372          NaN         540          NaN  \n",
              "top     1197 CC  74 bhp          NaN  95.13 Lakh          NaN  \n",
              "freq        606     235          NaN           6          NaN  \n",
              "mean        NaN     NaN     5.278735         NaN     1.825095  \n",
              "std         NaN     NaN     0.808840         NaN     0.874059  \n",
              "min         NaN     NaN     0.000000         NaN    -0.820981  \n",
              "25%         NaN     NaN     5.000000         NaN     1.252763  \n",
              "50%         NaN     NaN     5.000000         NaN     1.729884  \n",
              "75%         NaN     NaN     5.000000         NaN     2.297573  \n",
              "max         NaN     NaN    10.000000         NaN     5.075174  "
            ]
          },
          "execution_count": 82,
          "metadata": {},
          "output_type": "execute_result"
        }
      ],
      "source": [
        "# Descriptive statistics of data\n",
        "CarData.describe(include='all')"
      ]
    },
    {
      "cell_type": "code",
      "execution_count": 83,
      "metadata": {
        "colab": {
          "base_uri": "https://localhost:8080/",
          "height": 300
        },
        "id": "AW4WAh6HtcgR",
        "outputId": "b7dc085b-757a-4358-c2d7-fc4b88801a63"
      },
      "outputs": [
        {
          "data": {
            "text/html": [
              "<div>\n",
              "<style scoped>\n",
              "    .dataframe tbody tr th:only-of-type {\n",
              "        vertical-align: middle;\n",
              "    }\n",
              "\n",
              "    .dataframe tbody tr th {\n",
              "        vertical-align: top;\n",
              "    }\n",
              "\n",
              "    .dataframe thead th {\n",
              "        text-align: right;\n",
              "    }\n",
              "</style>\n",
              "<table border=\"1\" class=\"dataframe\">\n",
              "  <thead>\n",
              "    <tr style=\"text-align: right;\">\n",
              "      <th></th>\n",
              "      <th>Unnamed: 0</th>\n",
              "      <th>Year</th>\n",
              "      <th>Kilometers_Driven</th>\n",
              "      <th>Seats</th>\n",
              "      <th>Price</th>\n",
              "    </tr>\n",
              "  </thead>\n",
              "  <tbody>\n",
              "    <tr>\n",
              "      <th>count</th>\n",
              "      <td>6019.000000</td>\n",
              "      <td>6019.000000</td>\n",
              "      <td>6.019000e+03</td>\n",
              "      <td>5977.000000</td>\n",
              "      <td>6019.000000</td>\n",
              "    </tr>\n",
              "    <tr>\n",
              "      <th>mean</th>\n",
              "      <td>3009.000000</td>\n",
              "      <td>2013.358199</td>\n",
              "      <td>5.873838e+04</td>\n",
              "      <td>5.278735</td>\n",
              "      <td>1.825095</td>\n",
              "    </tr>\n",
              "    <tr>\n",
              "      <th>std</th>\n",
              "      <td>1737.679967</td>\n",
              "      <td>3.269742</td>\n",
              "      <td>9.126884e+04</td>\n",
              "      <td>0.808840</td>\n",
              "      <td>0.874059</td>\n",
              "    </tr>\n",
              "    <tr>\n",
              "      <th>min</th>\n",
              "      <td>0.000000</td>\n",
              "      <td>1998.000000</td>\n",
              "      <td>1.710000e+02</td>\n",
              "      <td>0.000000</td>\n",
              "      <td>-0.820981</td>\n",
              "    </tr>\n",
              "    <tr>\n",
              "      <th>25%</th>\n",
              "      <td>1504.500000</td>\n",
              "      <td>2011.000000</td>\n",
              "      <td>3.400000e+04</td>\n",
              "      <td>5.000000</td>\n",
              "      <td>1.252763</td>\n",
              "    </tr>\n",
              "    <tr>\n",
              "      <th>50%</th>\n",
              "      <td>3009.000000</td>\n",
              "      <td>2014.000000</td>\n",
              "      <td>5.300000e+04</td>\n",
              "      <td>5.000000</td>\n",
              "      <td>1.729884</td>\n",
              "    </tr>\n",
              "    <tr>\n",
              "      <th>75%</th>\n",
              "      <td>4513.500000</td>\n",
              "      <td>2016.000000</td>\n",
              "      <td>7.300000e+04</td>\n",
              "      <td>5.000000</td>\n",
              "      <td>2.297573</td>\n",
              "    </tr>\n",
              "    <tr>\n",
              "      <th>max</th>\n",
              "      <td>6018.000000</td>\n",
              "      <td>2019.000000</td>\n",
              "      <td>6.500000e+06</td>\n",
              "      <td>10.000000</td>\n",
              "      <td>5.075174</td>\n",
              "    </tr>\n",
              "  </tbody>\n",
              "</table>\n",
              "</div>"
            ],
            "text/plain": [
              "        Unnamed: 0         Year  Kilometers_Driven        Seats        Price\n",
              "count  6019.000000  6019.000000       6.019000e+03  5977.000000  6019.000000\n",
              "mean   3009.000000  2013.358199       5.873838e+04     5.278735     1.825095\n",
              "std    1737.679967     3.269742       9.126884e+04     0.808840     0.874059\n",
              "min       0.000000  1998.000000       1.710000e+02     0.000000    -0.820981\n",
              "25%    1504.500000  2011.000000       3.400000e+04     5.000000     1.252763\n",
              "50%    3009.000000  2014.000000       5.300000e+04     5.000000     1.729884\n",
              "75%    4513.500000  2016.000000       7.300000e+04     5.000000     2.297573\n",
              "max    6018.000000  2019.000000       6.500000e+06    10.000000     5.075174"
            ]
          },
          "execution_count": 83,
          "metadata": {},
          "output_type": "execute_result"
        }
      ],
      "source": [
        "CarData.describe()"
      ]
    },
    {
      "cell_type": "code",
      "execution_count": 84,
      "metadata": {
        "colab": {
          "base_uri": "https://localhost:8080/"
        },
        "id": "F68CqGfVs58M",
        "outputId": "14637dfc-faa6-4895-ca79-13531a254546"
      },
      "outputs": [
        {
          "data": {
            "text/plain": [
              "Unnamed: 0           6019\n",
              "Name                 1876\n",
              "Location               11\n",
              "Year                   22\n",
              "Kilometers_Driven    3093\n",
              "Fuel_Type               5\n",
              "Transmission            2\n",
              "Owner_Type              4\n",
              "Mileage               442\n",
              "Engine                146\n",
              "Power                 372\n",
              "Seats                   9\n",
              "New_Price             540\n",
              "Price                1373\n",
              "dtype: int64"
            ]
          },
          "execution_count": 84,
          "metadata": {},
          "output_type": "execute_result"
        }
      ],
      "source": [
        "\n",
        "CarData.nunique()\n",
        "# Location , Fuel_Type ,Seats , Owner_Type , Transmission , Year"
      ]
    },
    {
      "cell_type": "markdown",
      "metadata": {
        "id": "klYzjofLxW3L"
      },
      "source": [
        "## Step 6 Removing Unwanted Columns\n",
        "- Removing Un-named column as its just Numbering of column"
      ]
    },
    {
      "cell_type": "code",
      "execution_count": 85,
      "metadata": {
        "id": "S7b33Z_byQHq"
      },
      "outputs": [],
      "source": [
        "# Removing the 'Unnamed: 0' column because it does not has any purpose in data\n",
        "CarData = CarData.drop('Unnamed: 0', axis=1)"
      ]
    },
    {
      "cell_type": "markdown",
      "metadata": {
        "id": "JZSCbAXqxUcc"
      },
      "source": [
        "## Step:7 Visual Exploratory Data Analysis"
      ]
    },
    {
      "cell_type": "code",
      "execution_count": 86,
      "metadata": {
        "id": "2zclv55_yLh-"
      },
      "outputs": [],
      "source": [
        "# Plotting multiple bar charts at once for categorical variables\n",
        "# Since there is no default function which can plot bar charts for multiple columns at once\n",
        "# we are defining our own function for the same\n",
        "\n",
        "def PlotBarCharts(inpData, colsToPlot):\n",
        "    %matplotlib inline\n",
        "\n",
        "    import matplotlib.pyplot as plt\n",
        "\n",
        "    # Generating multiple subplots\n",
        "    fig, subPlot=plt.subplots(nrows=1, ncols=len(colsToPlot), figsize=(20,5))\n",
        "    fig.suptitle('Bar charts of: '+ str(colsToPlot))\n",
        "\n",
        "    for colName, plotNumber in zip(colsToPlot, range(len(colsToPlot))):\n",
        "        inpData.groupby(colName).size().plot(kind='bar',ax=subPlot[plotNumber])"
      ]
    },
    {
      "cell_type": "code",
      "execution_count": 87,
      "metadata": {
        "colab": {
          "base_uri": "https://localhost:8080/",
          "height": 248
        },
        "id": "kayRmpg0y2Dz",
        "outputId": "2d866831-21ef-43ee-b3f5-e5830f60ef8c"
      },
      "outputs": [
        {
          "data": {
            "image/png": "[encoded data removed]",
            "text/plain": [
              "<Figure size 2000x500 with 6 Axes>"
            ]
          },
          "metadata": {},
          "output_type": "display_data"
        }
      ],
      "source": [
        "####################################################################\n",
        "PlotBarCharts(inpData=CarData, colsToPlot=['Location','Fuel_Type','Seats' ,'Owner_Type' ,'Transmission' , 'Year'])"
      ]
    },
    {
      "cell_type": "code",
      "execution_count": 88,
      "metadata": {
        "colab": {
          "base_uri": "https://localhost:8080/",
          "height": 445
        },
        "id": "HZ--Nc7G1gCC",
        "outputId": "af916dc9-b24b-4042-b553-64d61631edee"
      },
      "outputs": [
        {
          "data": {
            "text/plain": [
              "array([[<Axes: title={'center': 'Kilometers_Driven'}>]], dtype=object)"
            ]
          },
          "execution_count": 88,
          "metadata": {},
          "output_type": "execute_result"
        },
        {
          "data": {
            "image/png": "[encoded data removed]",
            "text/plain": [
              "<Figure size 1800x1000 with 1 Axes>"
            ]
          },
          "metadata": {},
          "output_type": "display_data"
        }
      ],
      "source": [
        "# Plotting histograms of multiple columns together\n",
        "CarData.hist(['Kilometers_Driven','Mileage','Engine','Power' ,'New_Price',], figsize=(18,10))"
      ]
    },
    {
      "cell_type": "markdown",
      "metadata": {},
      "source": [
        "## Step: 8 Feature Selection Based on Data distribution\n",
        "Mileage , Engine , Power , Engine , Year"
      ]
    },
    {
      "cell_type": "markdown",
      "metadata": {
        "id": "9zhOyHIv6qNE"
      },
      "source": [
        "## Step 9: Outliers Approach"
      ]
    },
    {
      "cell_type": "code",
      "execution_count": 89,
      "metadata": {
        "colab": {
          "base_uri": "https://localhost:8080/"
        },
        "id": "d28nm-Wn7Qzo",
        "outputId": "bb246944-cd05-49a2-9b70-c3484ea39f57"
      },
      "outputs": [
        {
          "data": {
            "text/plain": [
              "Series([], Name: Kilometers_Driven, dtype: int64)"
            ]
          },
          "execution_count": 89,
          "metadata": {},
          "output_type": "execute_result"
        }
      ],
      "source": [
        "#Replacing outliers for 'Kilometers_Driven'\n",
        "# Finding nearest values to 60 mark\n",
        "CarData['Kilometers_Driven'][CarData['Kilometers_Driven']<60].sort_values(ascending=False)"
      ]
    },
    {
      "cell_type": "code",
      "execution_count": 90,
      "metadata": {
        "colab": {
          "base_uri": "https://localhost:8080/"
        },
        "id": "yE1xZYmaIe7D",
        "outputId": "59d50813-4130-471b-ef04-73e975a05867"
      },
      "outputs": [
        {
          "data": {
            "text/plain": [
              "Series([], Name: Kilometers_Driven, dtype: int64)"
            ]
          },
          "execution_count": 90,
          "metadata": {},
          "output_type": "execute_result"
        }
      ],
      "source": [
        "#Replacing outliers for 'Kilometers_Driven'\n",
        "# Finding nearest values to 60 mark\n",
        "CarData['Kilometers_Driven'][CarData['Kilometers_Driven']<60].sort_values(ascending=False)"
      ]
    },
    {
      "cell_type": "code",
      "execution_count": 91,
      "metadata": {
        "colab": {
          "base_uri": "https://localhost:8080/"
        },
        "id": "MaJJReoRVGj1",
        "outputId": "0cd686e6-5e3f-4bec-bdfe-f18c168e52d8"
      },
      "outputs": [
        {
          "name": "stdout",
          "output_type": "stream",
          "text": [
            "2328    6500000\n",
            "340      775000\n",
            "1860     720000\n",
            "358      620000\n",
            "3092     480000\n",
            "         ...   \n",
            "1242       1000\n",
            "173        1000\n",
            "2646       1000\n",
            "5606        600\n",
            "1361        171\n",
            "Name: Kilometers_Driven, Length: 6019, dtype: int64\n"
          ]
        }
      ],
      "source": [
        "#Step 10\n",
        "# Replacing outliers for 'Price'\n",
        "# Finding nearest values to a specific mark\n",
        "outliers_price = CarData['Kilometers_Driven'][CarData['Kilometers_Driven'] > 60].sort_values(ascending=False)\n",
        "print(outliers_price)\n"
      ]
    },
    {
      "cell_type": "code",
      "execution_count": 92,
      "metadata": {
        "id": "MaTIj8MjCv_V"
      },
      "outputs": [],
      "source": [
        "# Remove Kilometer_Driven\n",
        "CarData = CarData.drop('Kilometers_Driven', axis=1)"
      ]
    },
    {
      "cell_type": "code",
      "execution_count": 93,
      "metadata": {
        "colab": {
          "base_uri": "https://localhost:8080/"
        },
        "id": "gyxjK2gRU5Wa",
        "outputId": "522dd343-b771-4bfa-d7c9-67d0ba25f9d0"
      },
      "outputs": [
        {
          "name": "stdout",
          "output_type": "stream",
          "text": [
            "Name               0\n",
            "Location           0\n",
            "Year               0\n",
            "Fuel_Type          0\n",
            "Transmission       0\n",
            "Owner_Type         0\n",
            "Mileage            2\n",
            "Engine            36\n",
            "Power             36\n",
            "Seats             42\n",
            "New_Price       5195\n",
            "Price              0\n",
            "dtype: int64\n"
          ]
        }
      ],
      "source": [
        "# Check for missing values after handling\n",
        "print(CarData.isnull().sum())"
      ]
    },
    {
      "cell_type": "code",
      "execution_count": 94,
      "metadata": {
        "id": "zL3HeeaHbG-T"
      },
      "outputs": [],
      "source": [
        "#Removing this data because most of its columns contain 0 value\n",
        "CarData = CarData.drop('New_Price', axis=1)"
      ]
    },
    {
      "cell_type": "markdown",
      "metadata": {},
      "source": [
        "## Step 11: Data conversion"
      ]
    },
    {
      "cell_type": "code",
      "execution_count": 95,
      "metadata": {},
      "outputs": [
        {
          "name": "stdout",
          "output_type": "stream",
          "text": [
            "Error converting null bhp: could not convert string to float: 'null'\n",
            "Error converting null bhp: could not convert string to float: 'null'\n",
            "Error converting null bhp: could not convert string to float: 'null'\n",
            "Error converting null bhp: could not convert string to float: 'null'\n",
            "Error converting null bhp: could not convert string to float: 'null'\n",
            "Error converting null bhp: could not convert string to float: 'null'\n",
            "Error converting null bhp: could not convert string to float: 'null'\n",
            "Error converting null bhp: could not convert string to float: 'null'\n",
            "Error converting null bhp: could not convert string to float: 'null'\n",
            "Error converting null bhp: could not convert string to float: 'null'\n",
            "Error converting null bhp: could not convert string to float: 'null'\n",
            "Error converting null bhp: could not convert string to float: 'null'\n",
            "Error converting null bhp: could not convert string to float: 'null'\n",
            "Error converting null bhp: could not convert string to float: 'null'\n",
            "Error converting null bhp: could not convert string to float: 'null'\n",
            "Error converting null bhp: could not convert string to float: 'null'\n",
            "Error converting null bhp: could not convert string to float: 'null'\n",
            "Error converting null bhp: could not convert string to float: 'null'\n",
            "Error converting null bhp: could not convert string to float: 'null'\n",
            "Error converting null bhp: could not convert string to float: 'null'\n",
            "Error converting null bhp: could not convert string to float: 'null'\n",
            "Error converting null bhp: could not convert string to float: 'null'\n",
            "Error converting null bhp: could not convert string to float: 'null'\n",
            "Error converting null bhp: could not convert string to float: 'null'\n",
            "Error converting null bhp: could not convert string to float: 'null'\n",
            "Error converting null bhp: could not convert string to float: 'null'\n",
            "Error converting null bhp: could not convert string to float: 'null'\n",
            "Error converting null bhp: could not convert string to float: 'null'\n",
            "Error converting null bhp: could not convert string to float: 'null'\n",
            "Error converting null bhp: could not convert string to float: 'null'\n",
            "Error converting null bhp: could not convert string to float: 'null'\n",
            "Error converting null bhp: could not convert string to float: 'null'\n",
            "Error converting null bhp: could not convert string to float: 'null'\n",
            "Error converting null bhp: could not convert string to float: 'null'\n",
            "Error converting null bhp: could not convert string to float: 'null'\n",
            "Error converting null bhp: could not convert string to float: 'null'\n",
            "Error converting null bhp: could not convert string to float: 'null'\n",
            "Error converting null bhp: could not convert string to float: 'null'\n",
            "Error converting null bhp: could not convert string to float: 'null'\n",
            "Error converting null bhp: could not convert string to float: 'null'\n",
            "Error converting null bhp: could not convert string to float: 'null'\n",
            "Error converting null bhp: could not convert string to float: 'null'\n",
            "Error converting null bhp: could not convert string to float: 'null'\n",
            "Error converting null bhp: could not convert string to float: 'null'\n",
            "Error converting null bhp: could not convert string to float: 'null'\n",
            "Error converting null bhp: could not convert string to float: 'null'\n",
            "Error converting null bhp: could not convert string to float: 'null'\n",
            "Error converting null bhp: could not convert string to float: 'null'\n",
            "Error converting null bhp: could not convert string to float: 'null'\n",
            "Error converting null bhp: could not convert string to float: 'null'\n",
            "Error converting null bhp: could not convert string to float: 'null'\n",
            "Error converting null bhp: could not convert string to float: 'null'\n",
            "Error converting null bhp: could not convert string to float: 'null'\n",
            "Error converting null bhp: could not convert string to float: 'null'\n",
            "Error converting null bhp: could not convert string to float: 'null'\n",
            "Error converting null bhp: could not convert string to float: 'null'\n",
            "Error converting null bhp: could not convert string to float: 'null'\n",
            "Error converting null bhp: could not convert string to float: 'null'\n",
            "Error converting null bhp: could not convert string to float: 'null'\n",
            "Error converting null bhp: could not convert string to float: 'null'\n",
            "Error converting null bhp: could not convert string to float: 'null'\n",
            "Error converting null bhp: could not convert string to float: 'null'\n",
            "Error converting null bhp: could not convert string to float: 'null'\n",
            "Error converting null bhp: could not convert string to float: 'null'\n",
            "Error converting null bhp: could not convert string to float: 'null'\n",
            "Error converting null bhp: could not convert string to float: 'null'\n",
            "Error converting null bhp: could not convert string to float: 'null'\n",
            "Error converting null bhp: could not convert string to float: 'null'\n",
            "Error converting null bhp: could not convert string to float: 'null'\n",
            "Error converting null bhp: could not convert string to float: 'null'\n",
            "Error converting null bhp: could not convert string to float: 'null'\n",
            "Error converting null bhp: could not convert string to float: 'null'\n",
            "Error converting null bhp: could not convert string to float: 'null'\n",
            "Error converting null bhp: could not convert string to float: 'null'\n",
            "Error converting null bhp: could not convert string to float: 'null'\n",
            "Error converting null bhp: could not convert string to float: 'null'\n",
            "Error converting null bhp: could not convert string to float: 'null'\n",
            "Error converting null bhp: could not convert string to float: 'null'\n",
            "Error converting null bhp: could not convert string to float: 'null'\n",
            "Error converting null bhp: could not convert string to float: 'null'\n",
            "Error converting null bhp: could not convert string to float: 'null'\n",
            "Error converting null bhp: could not convert string to float: 'null'\n",
            "Error converting null bhp: could not convert string to float: 'null'\n",
            "Error converting null bhp: could not convert string to float: 'null'\n",
            "Error converting null bhp: could not convert string to float: 'null'\n",
            "Error converting null bhp: could not convert string to float: 'null'\n",
            "Error converting null bhp: could not convert string to float: 'null'\n",
            "Error converting null bhp: could not convert string to float: 'null'\n",
            "Error converting null bhp: could not convert string to float: 'null'\n",
            "Error converting null bhp: could not convert string to float: 'null'\n",
            "Error converting null bhp: could not convert string to float: 'null'\n",
            "Error converting null bhp: could not convert string to float: 'null'\n",
            "Error converting null bhp: could not convert string to float: 'null'\n",
            "Error converting null bhp: could not convert string to float: 'null'\n",
            "Error converting null bhp: could not convert string to float: 'null'\n",
            "Error converting null bhp: could not convert string to float: 'null'\n",
            "Error converting null bhp: could not convert string to float: 'null'\n",
            "Error converting null bhp: could not convert string to float: 'null'\n",
            "Error converting null bhp: could not convert string to float: 'null'\n",
            "Error converting null bhp: could not convert string to float: 'null'\n",
            "Error converting null bhp: could not convert string to float: 'null'\n",
            "Error converting null bhp: could not convert string to float: 'null'\n",
            "Error converting null bhp: could not convert string to float: 'null'\n",
            "Error converting null bhp: could not convert string to float: 'null'\n",
            "Error converting null bhp: could not convert string to float: 'null'\n",
            "Error converting null bhp: could not convert string to float: 'null'\n",
            "Error converting null bhp: could not convert string to float: 'null'\n"
          ]
        }
      ],
      "source": [
        "\n",
        "def clean_numeric(value):\n",
        "    if pd.isna(value) or value == 'null':\n",
        "        return np.nan  # Convert 'null' or NaN entries to np.nan\n",
        "    try:\n",
        "        return float(value.split()[0])  # Attempt to convert the first part of the string to float\n",
        "    except ValueError as e:\n",
        "        print(f\"Error converting {value}: {str(e)}\")\n",
        "        return np.nan  # Return np.nan for any other conversion errors\n",
        "# Apply cleaning\n",
        "columns_to_clean = ['Mileage', 'Power', 'Engine']  # Assuming these columns might have 'null'\n",
        "for column in columns_to_clean:\n",
        "    CarData[column] = CarData[column].apply(clean_numeric)\n",
        "\n",
        "# Handle NaN values\n",
        "# Option 1: Drop rows with NaN\n",
        "CarData.dropna(inplace=True)"
      ]
    },
    {
      "cell_type": "markdown",
      "metadata": {},
      "source": [
        "## Removing Zeros and empty sets"
      ]
    },
    {
      "cell_type": "code",
      "execution_count": 96,
      "metadata": {},
      "outputs": [
        {
          "name": "stdout",
          "output_type": "stream",
          "text": [
            "Rows with zero Price remaining: 0\n",
            "Missing values after handling:\n",
            "Name            0\n",
            "Location        0\n",
            "Year            0\n",
            "Fuel_Type       0\n",
            "Transmission    0\n",
            "Owner_Type      0\n",
            "Mileage         0\n",
            "Engine          0\n",
            "Power           0\n",
            "Seats           0\n",
            "Price           0\n",
            "dtype: int64\n"
          ]
        }
      ],
      "source": [
        "\n",
        "#Removing Empty value of data\n",
        "most_common_seat = CarData['Seats'].mode()[0]\n",
        "CarData['Seats'].fillna(most_common_seat, inplace=True)\n",
        "\n",
        "CarData = CarData[CarData['Price'] != 0]\n",
        "CarData['Price'].fillna(CarData['Price'].median(), inplace=True)\n",
        "# Impute missing values for 'Mileage', 'Engine', 'Power'\n",
        "CarData['Mileage'].fillna(CarData['Mileage'].median(), inplace=True)\n",
        "CarData['Engine'].fillna(CarData['Engine'].median(), inplace=True)\n",
        "CarData['Power'].fillna(CarData['Power'].median(), inplace=True)\n",
        "\n",
        "# Verify no more zero values for 'Price' and check for any remaining missing values\n",
        "print(\"Rows with zero Price remaining:\", (CarData['Price'] == 0).sum())\n",
        "print(\"Missing values after handling:\")\n",
        "print(CarData.isnull().sum())\n"
      ]
    },
    {
      "cell_type": "code",
      "execution_count": 97,
      "metadata": {},
      "outputs": [
        {
          "name": "stdout",
          "output_type": "stream",
          "text": [
            "0    26.60\n",
            "1    19.67\n",
            "2    18.20\n",
            "3    20.77\n",
            "4    15.20\n",
            "Name: Mileage, dtype: float64\n"
          ]
        }
      ],
      "source": [
        "# Example: Verifying and cleaning the 'Mileage' column\n",
        "print(CarData['Mileage'].head())  # Check the first few entries to see if they're cleaned properly\n",
        "\n",
        "# If you notice any incorrectly formatted entries, reapply the cleaning\n",
        "CarData['Mileage'] = CarData['Mileage'].apply(lambda x: float(x.split()[0]) if isinstance(x, str) else x)\n"
      ]
    },
    {
      "cell_type": "markdown",
      "metadata": {
        "id": "f-ZaCI1hD7Vl"
      },
      "source": [
        "## Step:10 Relationship exploration: Continuous Vs Continuous -- Scatter Charts"
      ]
    },
    {
      "cell_type": "code",
      "execution_count": 98,
      "metadata": {
        "colab": {
          "base_uri": "https://localhost:8080/",
          "height": 1000
        },
        "id": "pufC0y9pEBW3",
        "outputId": "ed5f0145-413f-4ae7-8fbd-7c3b350870b7"
      },
      "outputs": [
        {
          "data": {
            "image/png": "[encoded data removed]",
            "text/plain": [
              "<Figure size 1000x500 with 1 Axes>"
            ]
          },
          "metadata": {},
          "output_type": "display_data"
        },
        {
          "data": {
            "image/png": "[encoded data removed]",
            "text/plain": [
              "<Figure size 1000x500 with 1 Axes>"
            ]
          },
          "metadata": {},
          "output_type": "display_data"
        },
        {
          "data": {
            "image/png": "[encoded data removed]",
            "text/plain": [
              "<Figure size 1000x500 with 1 Axes>"
            ]
          },
          "metadata": {},
          "output_type": "display_data"
        },
        {
          "data": {
            "image/png": "[encoded data removed]",
            "text/plain": [
              "<Figure size 1000x500 with 1 Axes>"
            ]
          },
          "metadata": {},
          "output_type": "display_data"
        }
      ],
      "source": [
        "ContinuousCols=['Year', 'Engine', 'Power','Mileage']\n",
        "\n",
        "# Plotting scatter chart for each predictor vs the target variable\n",
        "for predictor in ContinuousCols:\n",
        "    CarData.plot.scatter(x=predictor, y='Price', figsize=(10,5), title=predictor+\" VS \"+ 'Price')"
      ]
    },
    {
      "cell_type": "markdown",
      "metadata": {
        "id": "1OglcUZrFurH"
      },
      "source": [
        "## Step 14: Statistical Feature Selection (Continuous Vs Continuous) using Correlation value"
      ]
    },
    {
      "cell_type": "code",
      "execution_count": 99,
      "metadata": {
        "colab": {
          "base_uri": "https://localhost:8080/",
          "height": 174
        },
        "id": "qVbkKEoYGCzQ",
        "outputId": "84850871-2f83-4dcf-e719-473a67926aa8"
      },
      "outputs": [
        {
          "data": {
            "text/html": [
              "<div>\n",
              "<style scoped>\n",
              "    .dataframe tbody tr th:only-of-type {\n",
              "        vertical-align: middle;\n",
              "    }\n",
              "\n",
              "    .dataframe tbody tr th {\n",
              "        vertical-align: top;\n",
              "    }\n",
              "\n",
              "    .dataframe thead th {\n",
              "        text-align: right;\n",
              "    }\n",
              "</style>\n",
              "<table border=\"1\" class=\"dataframe\">\n",
              "  <thead>\n",
              "    <tr style=\"text-align: right;\">\n",
              "      <th></th>\n",
              "      <th>Engine</th>\n",
              "      <th>Power</th>\n",
              "      <th>Mileage</th>\n",
              "      <th>Price</th>\n",
              "    </tr>\n",
              "  </thead>\n",
              "  <tbody>\n",
              "    <tr>\n",
              "      <th>Engine</th>\n",
              "      <td>1.000000</td>\n",
              "      <td>0.866122</td>\n",
              "      <td>-0.638140</td>\n",
              "      <td>0.689417</td>\n",
              "    </tr>\n",
              "    <tr>\n",
              "      <th>Power</th>\n",
              "      <td>0.866122</td>\n",
              "      <td>1.000000</td>\n",
              "      <td>-0.540017</td>\n",
              "      <td>0.770063</td>\n",
              "    </tr>\n",
              "    <tr>\n",
              "      <th>Mileage</th>\n",
              "      <td>-0.638140</td>\n",
              "      <td>-0.540017</td>\n",
              "      <td>1.000000</td>\n",
              "      <td>-0.317747</td>\n",
              "    </tr>\n",
              "    <tr>\n",
              "      <th>Price</th>\n",
              "      <td>0.689417</td>\n",
              "      <td>0.770063</td>\n",
              "      <td>-0.317747</td>\n",
              "      <td>1.000000</td>\n",
              "    </tr>\n",
              "  </tbody>\n",
              "</table>\n",
              "</div>"
            ],
            "text/plain": [
              "           Engine     Power   Mileage     Price\n",
              "Engine   1.000000  0.866122 -0.638140  0.689417\n",
              "Power    0.866122  1.000000 -0.540017  0.770063\n",
              "Mileage -0.638140 -0.540017  1.000000 -0.317747\n",
              "Price    0.689417  0.770063 -0.317747  1.000000"
            ]
          },
          "execution_count": 99,
          "metadata": {},
          "output_type": "execute_result"
        }
      ],
      "source": [
        "# Calculating correlation matrix\n",
        "ContinuousCols=[ 'Engine', 'Power','Mileage','Price']\n",
        "\n",
        "# Creating the correlation matrix\n",
        "CorrelationData=CarData[ContinuousCols].corr()\n",
        "CorrelationData"
      ]
    },
    {
      "cell_type": "code",
      "execution_count": 100,
      "metadata": {
        "colab": {
          "base_uri": "https://localhost:8080/"
        },
        "id": "ZRqWLphAGjH8",
        "outputId": "5d02d91d-ebf9-437f-9cf2-70bbe6f6b2e7"
      },
      "outputs": [
        {
          "data": {
            "text/plain": [
              "Engine    0.689417\n",
              "Power     0.770063\n",
              "Price     1.000000\n",
              "Name: Price, dtype: float64"
            ]
          },
          "execution_count": 100,
          "metadata": {},
          "output_type": "execute_result"
        }
      ],
      "source": [
        "# Filtering only those columns where absolute correlation > 0.5 with Target Variable\n",
        "# reduce the 0.5 threshold if no variable is selected\n",
        "CorrelationData['Price'][abs(CorrelationData['Price']) > 0.5 ]"
      ]
    },
    {
      "cell_type": "markdown",
      "metadata": {
        "id": "0ZOBBKvhHDP9"
      },
      "source": [
        "# Step 15:  Relationship exploration: Categorical Vs Continuous -- Box Plots"
      ]
    },
    {
      "cell_type": "code",
      "execution_count": 101,
      "metadata": {
        "colab": {
          "base_uri": "https://localhost:8080/",
          "height": 218
        },
        "id": "22VrjKp8HEoF",
        "outputId": "f4bb4ff3-cf3b-4a71-c202-f260fb535cc1"
      },
      "outputs": [
        {
          "data": {
            "image/png": "[encoded data removed]",
            "text/plain": [
              "<Figure size 1800x500 with 4 Axes>"
            ]
          },
          "metadata": {},
          "output_type": "display_data"
        }
      ],
      "source": [
        "# Box plots for continuous Target Variable \"Price\" and Categorical predictors\n",
        "CategoricalColsList=['Location','Fuel_Type','Seats' ,'Owner_Type' ,]\n",
        "\n",
        "import matplotlib.pyplot as plt\n",
        "fig, PlotCanvas=plt.subplots(nrows=1, ncols=len(CategoricalColsList), figsize=(18,5))\n",
        "\n",
        "# Creating box plots for each continuous predictor against the Target Variable \"Price\"\n",
        "for PredictorCol , i in zip(CategoricalColsList, range(len(CategoricalColsList))):\n",
        "    CarData.boxplot(column='Price', by=PredictorCol, figsize=(5,5), vert=True, ax=PlotCanvas[i])"
      ]
    },
    {
      "cell_type": "code",
      "execution_count": 102,
      "metadata": {
        "id": "4inrsf9jMbxP"
      },
      "outputs": [],
      "source": [
        "# Defining a function to find the statistical relationship with all the categorical variables\n",
        "def FunctionAnova(inpData, TargetVariable, CategoricalPredictorList):\n",
        "    from scipy.stats import f_oneway\n",
        "\n",
        "    # Creating an empty list of final selected predictors\n",
        "    SelectedPredictors=[]\n",
        "\n",
        "    print('##### ANOVA Results ##### \\n')\n",
        "    for predictor in CategoricalPredictorList:\n",
        "        CategoryGroupLists=inpData.groupby(predictor)[TargetVariable].apply(list)\n",
        "        AnovaResults = f_oneway(*CategoryGroupLists)\n",
        "\n",
        "        # If the ANOVA P-Value is <0.05, that means we reject H0\n",
        "        if (AnovaResults[1] < 0.05):\n",
        "            print(predictor, 'is correlated with', TargetVariable, '| P-Value:', AnovaResults[1])\n",
        "            SelectedPredictors.append(predictor)\n",
        "        else:\n",
        "            print(predictor, 'is NOT correlated with', TargetVariable, '| P-Value:', AnovaResults[1])\n",
        "\n",
        "    return(SelectedPredictors)"
      ]
    },
    {
      "cell_type": "code",
      "execution_count": 103,
      "metadata": {
        "colab": {
          "base_uri": "https://localhost:8080/"
        },
        "id": "Co1VAcA6Mmii",
        "outputId": "330b134d-2d42-491b-9bec-dd2be675b33b"
      },
      "outputs": [
        {
          "name": "stdout",
          "output_type": "stream",
          "text": [
            "##### ANOVA Results ##### \n",
            "\n",
            "Year is correlated with Price | P-Value: 1.9651e-319\n",
            "Location is correlated with Price | P-Value: 7.056972041495242e-131\n",
            "Fuel_Type is correlated with Price | P-Value: 6.608159222696187e-264\n",
            "Transmission is correlated with Price | P-Value: 0.0\n"
          ]
        },
        {
          "data": {
            "text/plain": [
              "['Year', 'Location', 'Fuel_Type', 'Transmission']"
            ]
          },
          "execution_count": 103,
          "metadata": {},
          "output_type": "execute_result"
        }
      ],
      "source": [
        "#Calling the function to check which categorical variables are correlated with target\n",
        "CategoricalPredictorList=[ 'Year', 'Location','Fuel_Type','Transmission']\n",
        "FunctionAnova(inpData=CarData,\n",
        "              TargetVariable='Price',\n",
        "              CategoricalPredictorList=CategoricalPredictorList)"
      ]
    },
    {
      "cell_type": "code",
      "execution_count": 104,
      "metadata": {
        "colab": {
          "base_uri": "https://localhost:8080/",
          "height": 206
        },
        "id": "Af-es3BmNqIJ",
        "outputId": "fae6e466-378f-4a74-aab5-d43717f4e603"
      },
      "outputs": [
        {
          "data": {
            "text/html": [
              "<div>\n",
              "<style scoped>\n",
              "    .dataframe tbody tr th:only-of-type {\n",
              "        vertical-align: middle;\n",
              "    }\n",
              "\n",
              "    .dataframe tbody tr th {\n",
              "        vertical-align: top;\n",
              "    }\n",
              "\n",
              "    .dataframe thead th {\n",
              "        text-align: right;\n",
              "    }\n",
              "</style>\n",
              "<table border=\"1\" class=\"dataframe\">\n",
              "  <thead>\n",
              "    <tr style=\"text-align: right;\">\n",
              "      <th></th>\n",
              "      <th>Year</th>\n",
              "      <th>Engine</th>\n",
              "      <th>Power</th>\n",
              "      <th>Mileage</th>\n",
              "    </tr>\n",
              "  </thead>\n",
              "  <tbody>\n",
              "    <tr>\n",
              "      <th>0</th>\n",
              "      <td>2010</td>\n",
              "      <td>998.0</td>\n",
              "      <td>58.16</td>\n",
              "      <td>26.60</td>\n",
              "    </tr>\n",
              "    <tr>\n",
              "      <th>1</th>\n",
              "      <td>2015</td>\n",
              "      <td>1582.0</td>\n",
              "      <td>126.20</td>\n",
              "      <td>19.67</td>\n",
              "    </tr>\n",
              "    <tr>\n",
              "      <th>2</th>\n",
              "      <td>2011</td>\n",
              "      <td>1199.0</td>\n",
              "      <td>88.70</td>\n",
              "      <td>18.20</td>\n",
              "    </tr>\n",
              "    <tr>\n",
              "      <th>3</th>\n",
              "      <td>2012</td>\n",
              "      <td>1248.0</td>\n",
              "      <td>88.76</td>\n",
              "      <td>20.77</td>\n",
              "    </tr>\n",
              "    <tr>\n",
              "      <th>4</th>\n",
              "      <td>2013</td>\n",
              "      <td>1968.0</td>\n",
              "      <td>140.80</td>\n",
              "      <td>15.20</td>\n",
              "    </tr>\n",
              "  </tbody>\n",
              "</table>\n",
              "</div>"
            ],
            "text/plain": [
              "   Year  Engine   Power  Mileage\n",
              "0  2010   998.0   58.16    26.60\n",
              "1  2015  1582.0  126.20    19.67\n",
              "2  2011  1199.0   88.70    18.20\n",
              "3  2012  1248.0   88.76    20.77\n",
              "4  2013  1968.0  140.80    15.20"
            ]
          },
          "execution_count": 104,
          "metadata": {},
          "output_type": "execute_result"
        }
      ],
      "source": [
        "SelectedColumns=['Year', 'Engine', 'Power','Mileage']\n",
        "\n",
        "# Selecting final columns\n",
        "DataForML=CarData[SelectedColumns]\n",
        "DataForML.head()"
      ]
    },
    {
      "cell_type": "code",
      "execution_count": 105,
      "metadata": {
        "id": "D7eTqWQSOVrl"
      },
      "outputs": [],
      "source": [
        "# Saving this final data subset for reference during deployment\n",
        "DataForML.to_pickle('DataForML.pkl')"
      ]
    },
    {
      "cell_type": "code",
      "execution_count": 106,
      "metadata": {
        "colab": {
          "base_uri": "https://localhost:8080/",
          "height": 206
        },
        "id": "1iiH7r7FOsFJ",
        "outputId": "64b5a393-97de-4e2c-cfdf-09a468b1d872"
      },
      "outputs": [
        {
          "data": {
            "text/html": [
              "<div>\n",
              "<style scoped>\n",
              "    .dataframe tbody tr th:only-of-type {\n",
              "        vertical-align: middle;\n",
              "    }\n",
              "\n",
              "    .dataframe tbody tr th {\n",
              "        vertical-align: top;\n",
              "    }\n",
              "\n",
              "    .dataframe thead th {\n",
              "        text-align: right;\n",
              "    }\n",
              "</style>\n",
              "<table border=\"1\" class=\"dataframe\">\n",
              "  <thead>\n",
              "    <tr style=\"text-align: right;\">\n",
              "      <th></th>\n",
              "      <th>Year</th>\n",
              "      <th>Engine</th>\n",
              "      <th>Power</th>\n",
              "      <th>Mileage</th>\n",
              "      <th>Price</th>\n",
              "    </tr>\n",
              "  </thead>\n",
              "  <tbody>\n",
              "    <tr>\n",
              "      <th>0</th>\n",
              "      <td>2010</td>\n",
              "      <td>998.0</td>\n",
              "      <td>58.16</td>\n",
              "      <td>26.60</td>\n",
              "      <td>0.559616</td>\n",
              "    </tr>\n",
              "    <tr>\n",
              "      <th>1</th>\n",
              "      <td>2015</td>\n",
              "      <td>1582.0</td>\n",
              "      <td>126.20</td>\n",
              "      <td>19.67</td>\n",
              "      <td>2.525729</td>\n",
              "    </tr>\n",
              "    <tr>\n",
              "      <th>2</th>\n",
              "      <td>2011</td>\n",
              "      <td>1199.0</td>\n",
              "      <td>88.70</td>\n",
              "      <td>18.20</td>\n",
              "      <td>1.504077</td>\n",
              "    </tr>\n",
              "    <tr>\n",
              "      <th>3</th>\n",
              "      <td>2012</td>\n",
              "      <td>1248.0</td>\n",
              "      <td>88.76</td>\n",
              "      <td>20.77</td>\n",
              "      <td>1.791759</td>\n",
              "    </tr>\n",
              "    <tr>\n",
              "      <th>4</th>\n",
              "      <td>2013</td>\n",
              "      <td>1968.0</td>\n",
              "      <td>140.80</td>\n",
              "      <td>15.20</td>\n",
              "      <td>2.875822</td>\n",
              "    </tr>\n",
              "  </tbody>\n",
              "</table>\n",
              "</div>"
            ],
            "text/plain": [
              "   Year  Engine   Power  Mileage     Price\n",
              "0  2010   998.0   58.16    26.60  0.559616\n",
              "1  2015  1582.0  126.20    19.67  2.525729\n",
              "2  2011  1199.0   88.70    18.20  1.504077\n",
              "3  2012  1248.0   88.76    20.77  1.791759\n",
              "4  2013  1968.0  140.80    15.20  2.875822"
            ]
          },
          "execution_count": 106,
          "metadata": {},
          "output_type": "execute_result"
        }
      ],
      "source": [
        "# Treating all the nominal variables at once using dummy variables\n",
        "DataForML_Numeric=pd.get_dummies(DataForML)\n",
        "\n",
        "# Adding Target Variable to the data\n",
        "DataForML_Numeric['Price']=CarData['Price']\n",
        "\n",
        "# Printing sample rows\n",
        "DataForML_Numeric.head()"
      ]
    },
    {
      "cell_type": "code",
      "execution_count": 107,
      "metadata": {
        "colab": {
          "base_uri": "https://localhost:8080/"
        },
        "id": "IcgQhn9NO_vR",
        "outputId": "fb2c1c49-97b7-4851-bfcf-1556539093e1"
      },
      "outputs": [
        {
          "data": {
            "text/plain": [
              "Index(['Year', 'Engine', 'Power', 'Mileage', 'Price'], dtype='object')"
            ]
          },
          "execution_count": 107,
          "metadata": {},
          "output_type": "execute_result"
        }
      ],
      "source": [
        "# Printing all the column names for our reference\n",
        "DataForML_Numeric.columns"
      ]
    },
    {
      "cell_type": "code",
      "execution_count": 108,
      "metadata": {
        "id": "GWWj5fg2PDoe"
      },
      "outputs": [],
      "source": [
        "#Separate Target Variable and Predictor Variables\n",
        "TargetVariable='Price'\n",
        "Predictors=['Year', 'Engine', 'Power', 'Mileage']\n",
        "\n",
        "X=DataForML_Numeric[Predictors].values\n",
        "y=DataForML_Numeric[TargetVariable].values\n",
        "\n",
        "\n",
        "# Split the data into training and testing set\n",
        "from sklearn.model_selection import train_test_split\n",
        "X_train, X_test, y_train, y_test = train_test_split(X, y, test_size=0.3, random_state=428)"
      ]
    },
    {
      "cell_type": "code",
      "execution_count": 109,
      "metadata": {
        "id": "LXN_VWzPYKdn"
      },
      "outputs": [],
      "source": [
        "### Standardization of data ###\n",
        "from sklearn.preprocessing import StandardScaler, MinMaxScaler\n",
        "# Choose either standardization or Normalization\n",
        "# On this data Min Max Normalization produced better results\n",
        "\n",
        "# Choose between standardization and MinMAx normalization\n",
        "#PredictorScaler=StandardScaler()\n",
        "PredictorScaler=MinMaxScaler()\n",
        "\n",
        "# Storing the fit object for later reference\n",
        "PredictorScalerFit=PredictorScaler.fit(X)\n",
        "\n",
        "# Generating the standardized values of X\n",
        "X=PredictorScalerFit.transform(X)\n",
        "\n",
        "# Split the data into training and testing set\n",
        "from sklearn.model_selection import train_test_split\n",
        "X_train, X_test, y_train, y_test = train_test_split(X, y, test_size=0.3, random_state=42)"
      ]
    },
    {
      "cell_type": "code",
      "execution_count": 110,
      "metadata": {
        "colab": {
          "base_uri": "https://localhost:8080/"
        },
        "id": "TbDlRe0mYVtQ",
        "outputId": "3af9700a-c1cc-4da2-a1f1-6ba0e7971522"
      },
      "outputs": [
        {
          "name": "stdout",
          "output_type": "stream",
          "text": [
            "(4099, 4)\n",
            "(4099,)\n",
            "(1758, 4)\n",
            "(1758,)\n"
          ]
        }
      ],
      "source": [
        "# Sanity check for the sampled data\n",
        "print(X_train.shape)\n",
        "print(y_train.shape)\n",
        "print(X_test.shape)\n",
        "print(y_test.shape)"
      ]
    },
    {
      "cell_type": "code",
      "execution_count": 111,
      "metadata": {
        "colab": {
          "base_uri": "https://localhost:8080/"
        },
        "id": "rfK2qehZfkQf",
        "outputId": "3136d047-9c4b-4be3-ab5a-059e2c9e71a7"
      },
      "outputs": [
        {
          "name": "stdout",
          "output_type": "stream",
          "text": [
            "0\n"
          ]
        }
      ],
      "source": [
        "# Checking there is any 0 in Target value\n",
        "print((CarData['Price'] == 0).sum())\n"
      ]
    },
    {
      "cell_type": "markdown",
      "metadata": {
        "id": "ESq-PYa2YfRe"
      },
      "source": [
        "## Random Forest Regresoor"
      ]
    },
    {
      "cell_type": "code",
      "execution_count": 112,
      "metadata": {},
      "outputs": [
        {
          "name": "stdout",
          "output_type": "stream",
          "text": [
            "RandomForestRegressor(criterion='friedman_mse', max_depth=4, n_estimators=400)\n",
            "R2 Value: 0.851179049597389\n",
            "\n",
            "##### Model Validation and Accuracy Calculations ##########\n",
            "       Year    Engine     Power   Mileage     Price  PredictedPrice\n",
            "0  0.714286  0.069594  0.060669  0.506261  1.238374             1.0\n",
            "1  0.809524  0.106624  0.090529  0.641026  1.413423             2.0\n",
            "2  0.857143  0.116115  0.075694  0.697674  1.252763             2.0\n",
            "3  0.571429  0.106624  0.087105  0.551580  0.625938             1.0\n",
            "4  0.714286  0.289356  0.201217  0.450209  2.140066             2.0\n",
            "Mean Accuracy on test data: 78.15239447926515\n",
            "Median Accuracy on test data: 83.9776629245172\n",
            "\n",
            "Accuracy values for 10-fold Cross Validation:\n",
            " [87.95737623 80.06361437 94.69290544 76.68601193 86.51757416 85.53080538\n",
            " 84.08833464 89.51317542 84.11439561 89.38257005]\n",
            "\n",
            "Final Average Accuracy of the model: 85.85\n"
          ]
        },
        {
          "data": {
            "image/png": "[encoded data removed]",
            "text/plain": [
              "<Figure size 640x480 with 1 Axes>"
            ]
          },
          "metadata": {},
          "output_type": "display_data"
        }
      ],
      "source": [
        "# Random Forest (Bagging of multiple Decision Trees)\n",
        "from sklearn.ensemble import RandomForestRegressor\n",
        "RegModel = RandomForestRegressor(max_depth=4, n_estimators=400,criterion='friedman_mse')\n",
        "# Good range for max_depth: 2-10 and n_estimators: 100-1000\n",
        "\n",
        "# Printing all the parameters of Random Forest\n",
        "print(RegModel)\n",
        "\n",
        "# Creating the model on Training Data\n",
        "RF=RegModel.fit(X_train,y_train)\n",
        "prediction=RF.predict(X_test)\n",
        "\n",
        "from sklearn import metrics\n",
        "# Measuring Goodness of fit in Training data\n",
        "print('R2 Value:',metrics.r2_score(y_train, RF.predict(X_train)))\n",
        "\n",
        "# Plotting the feature importance for Top 10 most important columns\n",
        "%matplotlib inline\n",
        "feature_importances = pd.Series(RF.feature_importances_, index=Predictors)\n",
        "feature_importances.nlargest(10).plot(kind='barh')\n",
        "\n",
        "###########################################################################\n",
        "print('\\n##### Model Validation and Accuracy Calculations ##########')\n",
        "\n",
        "# Printing some sample values of prediction\n",
        "TestingDataResults=pd.DataFrame(data=X_test, columns=Predictors)\n",
        "TestingDataResults[TargetVariable]=y_test\n",
        "TestingDataResults[('Predicted'+TargetVariable)]=np.round(prediction)\n",
        "\n",
        "# Printing sample prediction values\n",
        "print(TestingDataResults.head())\n",
        "\n",
        "# Calculating the error for each row\n",
        "TestingDataResults['APE']=100 * ((abs(\n",
        "  TestingDataResults['Price']-TestingDataResults['PredictedPrice']))/TestingDataResults['Price'])\n",
        "\n",
        "MAPE=np.mean(TestingDataResults['APE'])\n",
        "MedianMAPE=np.median(TestingDataResults['APE'])\n",
        "\n",
        "Accuracy =100 - MAPE\n",
        "MedianAccuracy=100- MedianMAPE\n",
        "print('Mean Accuracy on test data:', Accuracy) # Can be negative sometimes due to outlier\n",
        "print('Median Accuracy on test data:', MedianAccuracy)\n",
        "\n",
        "\n",
        "# Defining a custom function to calculate accuracy\n",
        "# Make sure there are no zeros in the Target variable if you are using MAPE\n",
        "def Accuracy_Score(orig,pred):\n",
        "    MAPE = np.mean(100 * (np.abs(orig-pred)/orig))\n",
        "    #print('#'*70,'Accuracy:', 100-MAPE)\n",
        "    return(100-MAPE)\n",
        "\n",
        "# Custom Scoring MAPE calculation\n",
        "from sklearn.metrics import make_scorer\n",
        "custom_Scoring=make_scorer(Accuracy_Score, greater_is_better=True)\n",
        "\n",
        "# Importing cross validation function from sklearn\n",
        "from sklearn.model_selection import cross_val_score\n",
        "\n",
        "# Running 10-Fold Cross validation on a given algorithm\n",
        "# Passing full data X and y because the K-fold will split the data and automatically choose train/test\n",
        "Accuracy_Values=cross_val_score(RegModel, X , y, cv=10, scoring=custom_Scoring)\n",
        "print('\\nAccuracy values for 10-fold Cross Validation:\\n',Accuracy_Values)\n",
        "print('\\nFinal Average Accuracy of the model:', round(Accuracy_Values.mean(),2))"
      ]
    },
    {
      "cell_type": "code",
      "execution_count": null,
      "metadata": {},
      "outputs": [],
      "source": []
    },
    {
      "cell_type": "code",
      "execution_count": null,
      "metadata": {},
      "outputs": [],
      "source": []
    },
    {
      "cell_type": "code",
      "execution_count": null,
      "metadata": {
        "colab": {
          "base_uri": "https://localhost:8080/",
          "height": 916
        },
        "id": "PJ3kALLnBMOO",
        "outputId": "c0ba7ba5-6caa-4a09-beb2-34117124ef62"
      },
      "outputs": [],
      "source": []
    },
    {
      "cell_type": "markdown",
      "metadata": {},
      "source": [
        "## Step 21 Model Deployment"
      ]
    },
    {
      "cell_type": "code",
      "execution_count": 113,
      "metadata": {
        "colab": {
          "base_uri": "https://localhost:8080/"
        },
        "id": "WeXLOiN4KxDL",
        "outputId": "c45798f6-8488-4cfc-9c37-c7ba4a67b00e"
      },
      "outputs": [
        {
          "name": "stdout",
          "output_type": "stream",
          "text": [
            "(5857, 4)\n",
            "(5857,)\n"
          ]
        }
      ],
      "source": [
        "# Separate Target Variable and Predictor Variables\n",
        "TargetVariable='Price'\n",
        "\n",
        "# Selecting the final set of predictors for the deployment\n",
        "# Based on the variable importance charts of multiple algorithms above\n",
        "Predictors=['Year', 'Engine', 'Power', 'Mileage']\n",
        "\n",
        "X=DataForML_Numeric[Predictors].values\n",
        "y=DataForML_Numeric[TargetVariable].values\n",
        "\n",
        "### Sandardization of data ###\n",
        "from sklearn.preprocessing import StandardScaler, MinMaxScaler\n",
        "# Choose either standardization or Normalization\n",
        "# On this data Min Max Normalization produced better results\n",
        "\n",
        "# Choose between standardization and MinMAx normalization\n",
        "#PredictorScaler=StandardScaler()\n",
        "PredictorScaler=MinMaxScaler()\n",
        "\n",
        "# Storing the fit object for later reference\n",
        "PredictorScalerFit=PredictorScaler.fit(X)\n",
        "\n",
        "# Generating the standardized values of X\n",
        "X=PredictorScalerFit.transform(X)\n",
        "\n",
        "print(X.shape)\n",
        "print(y.shape)"
      ]
    },
    {
      "cell_type": "markdown",
      "metadata": {},
      "source": [
        "## Cross Validating Final Accuracy"
      ]
    },
    {
      "cell_type": "code",
      "execution_count": 114,
      "metadata": {
        "colab": {
          "base_uri": "https://localhost:8080/"
        },
        "id": "52stGcqNK-WI",
        "outputId": "2512d92e-0875-4b34-afd2-70d2992a2fcb"
      },
      "outputs": [
        {
          "name": "stdout",
          "output_type": "stream",
          "text": [
            "\n",
            "Accuracy values for 10-fold Cross Validation:\n",
            " [90.76621349 84.93034242 95.06561487 83.38227282 89.62440005 86.03009785\n",
            " 87.91776418 91.28236204 89.01821991 91.8060741 ]\n",
            "\n",
            "Final Average Accuracy of the model: 88.98\n"
          ]
        }
      ],
      "source": [
        "# Importing cross validation function from sklearn\n",
        "from sklearn.model_selection import cross_val_score\n",
        "\n",
        "# choose from different tunable hyper parameters\n",
        "from xgboost import XGBRegressor\n",
        "RegModel=XGBRegressor(max_depth=2,\n",
        "                      learning_rate=0.1,\n",
        "                      n_estimators=1000,\n",
        "                      objective='reg:linear',\n",
        "                      booster='gbtree')\n",
        "\n",
        "# Running 10-Fold Cross validation on a given algorithm\n",
        "# Passing full data X and y because the K-fold will split the data and automatically choose train/test\n",
        "Accuracy_Values=cross_val_score(RegModel, X , y, cv=10, scoring=custom_Scoring)\n",
        "print('\\nAccuracy values for 10-fold Cross Validation:\\n',Accuracy_Values)\n",
        "print('\\nFinal Average Accuracy of the model:', round(Accuracy_Values.mean(),2))"
      ]
    },
    {
      "cell_type": "markdown",
      "metadata": {},
      "source": [
        "## Step 22 Retaining Final model using 100% data"
      ]
    },
    {
      "cell_type": "code",
      "execution_count": 115,
      "metadata": {
        "id": "3AVzJGbKLTfC"
      },
      "outputs": [],
      "source": [
        "Final_XGB_Model=RegModel.fit(X,y)"
      ]
    },
    {
      "cell_type": "markdown",
      "metadata": {},
      "source": [
        "## Save the model anywhere"
      ]
    },
    {
      "cell_type": "code",
      "execution_count": 116,
      "metadata": {
        "colab": {
          "base_uri": "https://localhost:8080/"
        },
        "id": "HJE2SzxDLY0C",
        "outputId": "9e7377df-5819-409e-e35f-f789eeb06233"
      },
      "outputs": [
        {
          "name": "stdout",
          "output_type": "stream",
          "text": [
            "pickle file of Predictive Model is saved at Location: c:\\Users\\Ahsan\\Downloads\n"
          ]
        }
      ],
      "source": [
        "import pickle\n",
        "import os\n",
        "\n",
        "# Saving the Python objects as serialized files can be done using pickle library\n",
        "# Here let us save the Final model\n",
        "with open('Final_XGB_Model.pkl', 'wb') as fileWriteStream:\n",
        "    pickle.dump(Final_XGB_Model, fileWriteStream)\n",
        "    # Don't forget to close the filestream!\n",
        "    fileWriteStream.close()\n",
        "\n",
        "print('pickle file of Predictive Model is saved at Location:',os.getcwd())"
      ]
    },
    {
      "cell_type": "markdown",
      "metadata": {},
      "source": [
        "## Create a python function"
      ]
    },
    {
      "cell_type": "code",
      "execution_count": 117,
      "metadata": {
        "id": "F4S1iW6iL0ZW"
      },
      "outputs": [],
      "source": [
        "from re import IGNORECASE\n",
        "# This Function can be called from any from any front end tool/website\n",
        "\n",
        "def FunctionPredictResult(InputData):\n",
        "    import pandas as pd\n",
        "    Num_Inputs=InputData.shape[0]\n",
        "\n",
        "    # Making sure the input data has same columns as it was used for training the model\n",
        "    # Also, if standardization/normalization was done, then same must be done for new input\n",
        "\n",
        "    # Appending the new data with the Training data\n",
        "    DataForML=pd.read_pickle('DataForML.pkl')\n",
        "    #InputData=InputData.append(DataForML, ignore_index=True)\n",
        "    InputData = pd.concat([InputData, DataForML], ignore_index=True)\n",
        "\n",
        "    # Generating dummy variables for rest of the nominal variables\n",
        "    InputData=pd.get_dummies(InputData)\n",
        "\n",
        "    # Maintaining the same order of columns as it was during the model training\n",
        "    Predictors=['Year', 'Engine', 'Power', 'Mileage']\n",
        "\n",
        "    # Generating the input values to the model\n",
        "    X=InputData[Predictors].values[0:Num_Inputs]\n",
        "\n",
        "    # Generating the standardized values of X since it was done while model training also\n",
        "    X=PredictorScalerFit.transform(X)\n",
        "\n",
        "    # Loading the Function from pickle file\n",
        "    import pickle\n",
        "    with open('Final_XGB_Model.pkl', 'rb') as fileReadStream:\n",
        "        PredictionModel=pickle.load(fileReadStream)\n",
        "        # Don't forget to close the filestream!\n",
        "        fileReadStream.close()\n",
        "\n",
        "    # Genrating Predictions\n",
        "    Prediction=PredictionModel.predict(X)\n",
        "    PredictionResult=pd.DataFrame(Prediction, columns=['Prediction'])\n",
        "    return(PredictionResult)"
      ]
    },
    {
      "cell_type": "markdown",
      "metadata": {},
      "source": [
        "## Step 25 Calling function fro some new data"
      ]
    },
    {
      "cell_type": "code",
      "execution_count": 118,
      "metadata": {
        "colab": {
          "base_uri": "https://localhost:8080/",
          "height": 164
        },
        "id": "Mv-u46OBL_7K",
        "outputId": "e2d6f626-388b-4f41-b777-a4d3adfdf786"
      },
      "outputs": [
        {
          "name": "stdout",
          "output_type": "stream",
          "text": [
            "   Engine  Power  Mileage\n",
            "0    4.98  6.575     15.3\n",
            "1    4.98  3.200     10.3\n"
          ]
        },
        {
          "data": {
            "text/html": [
              "<div>\n",
              "<style scoped>\n",
              "    .dataframe tbody tr th:only-of-type {\n",
              "        vertical-align: middle;\n",
              "    }\n",
              "\n",
              "    .dataframe tbody tr th {\n",
              "        vertical-align: top;\n",
              "    }\n",
              "\n",
              "    .dataframe thead th {\n",
              "        text-align: right;\n",
              "    }\n",
              "</style>\n",
              "<table border=\"1\" class=\"dataframe\">\n",
              "  <thead>\n",
              "    <tr style=\"text-align: right;\">\n",
              "      <th></th>\n",
              "      <th>Prediction</th>\n",
              "    </tr>\n",
              "  </thead>\n",
              "  <tbody>\n",
              "    <tr>\n",
              "      <th>0</th>\n",
              "      <td>1.187207</td>\n",
              "    </tr>\n",
              "    <tr>\n",
              "      <th>1</th>\n",
              "      <td>1.873296</td>\n",
              "    </tr>\n",
              "  </tbody>\n",
              "</table>\n",
              "</div>"
            ],
            "text/plain": [
              "   Prediction\n",
              "0    1.187207\n",
              "1    1.873296"
            ]
          },
          "execution_count": 118,
          "metadata": {},
          "output_type": "execute_result"
        }
      ],
      "source": [
        "# Calling the function for some new data\n",
        "NewSampleData=pd.DataFrame(data=[[4.98,6.575,15.3],[4.98,3.2,10.3]],columns=['Engine', 'Power', 'Mileage'])\n",
        "\n",
        "print(NewSampleData)\n",
        "\n",
        "# Calling the Function for prediction\n",
        "FunctionPredictResult(InputData=NewSampleData)"
      ]
    },
    {
      "cell_type": "markdown",
      "metadata": {},
      "source": [
        "## Deploying Function with few parameters"
      ]
    },
    {
      "cell_type": "code",
      "execution_count": 119,
      "metadata": {},
      "outputs": [
        {
          "name": "stdout",
          "output_type": "stream",
          "text": [
            "{\"Prediction\":{\"0\":2.0385591984}}\n"
          ]
        }
      ],
      "source": [
        "\n",
        "def FunctionGeneratePrediction(inp_Years, inp_Mileage, inp_Engine, inp_Power):\n",
        "    # Creating a data frame for the model input\n",
        "    SampleInputData = pd.DataFrame(\n",
        "        data=[[inp_Years, inp_Mileage, inp_Engine, inp_Power]],\n",
        "        columns=['Years', 'Mileage', 'Engine', 'Power']\n",
        "    )\n",
        "\n",
        "    # Assuming FunctionPredictResult is an existing function that can handle these inputs\n",
        "    Predictions = FunctionPredictResult(InputData=SampleInputData)\n",
        "\n",
        "    # Returning the predictions as a JSON string\n",
        "    return Predictions.to_json()\n",
        "\n",
        "# Example function call\n",
        "result = FunctionGeneratePrediction(\n",
        "    inp_Years=3,\n",
        "    inp_Mileage=45000,\n",
        "    inp_Engine=1.6,\n",
        "    inp_Power=120\n",
        ")\n",
        "print(result)\n"
      ]
    },
    {
      "cell_type": "markdown",
      "metadata": {},
      "source": [
        "## Web development by using Flask"
      ]
    },
    {
      "cell_type": "code",
      "execution_count": 120,
      "metadata": {
        "colab": {
          "base_uri": "https://localhost:8080/"
        },
        "id": "G0JEjvTWNtII",
        "outputId": "768bc717-d82c-442a-fd2a-c288bfa3cefd"
      },
      "outputs": [
        {
          "name": "stdout",
          "output_type": "stream",
          "text": [
            "Requirement already satisfied: flask in c:\\users\\ahsan\\appdata\\local\\packages\\pythonsoftwarefoundation.python.3.11_qbz5n2kfra8p0\\localcache\\local-packages\\python311\\site-packages (3.0.3)\n",
            "Requirement already satisfied: Werkzeug>=3.0.0 in c:\\users\\ahsan\\appdata\\local\\packages\\pythonsoftwarefoundation.python.3.11_qbz5n2kfra8p0\\localcache\\local-packages\\python311\\site-packages (from flask) (3.0.2)\n",
            "Requirement already satisfied: Jinja2>=3.1.2 in c:\\users\\ahsan\\appdata\\local\\packages\\pythonsoftwarefoundation.python.3.11_qbz5n2kfra8p0\\localcache\\local-packages\\python311\\site-packages (from flask) (3.1.3)\n",
            "Requirement already satisfied: itsdangerous>=2.1.2 in c:\\users\\ahsan\\appdata\\local\\packages\\pythonsoftwarefoundation.python.3.11_qbz5n2kfra8p0\\localcache\\local-packages\\python311\\site-packages (from flask) (2.2.0)\n",
            "Requirement already satisfied: click>=8.1.3 in c:\\users\\ahsan\\appdata\\local\\packages\\pythonsoftwarefoundation.python.3.11_qbz5n2kfra8p0\\localcache\\local-packages\\python311\\site-packages (from flask) (8.1.7)\n",
            "Requirement already satisfied: blinker>=1.6.2 in c:\\users\\ahsan\\appdata\\local\\packages\\pythonsoftwarefoundation.python.3.11_qbz5n2kfra8p0\\localcache\\local-packages\\python311\\site-packages (from flask) (1.8.1)\n",
            "Requirement already satisfied: colorama in c:\\users\\ahsan\\appdata\\local\\packages\\pythonsoftwarefoundation.python.3.11_qbz5n2kfra8p0\\localcache\\local-packages\\python311\\site-packages (from click>=8.1.3->flask) (0.4.6)\n",
            "Requirement already satisfied: MarkupSafe>=2.0 in c:\\users\\ahsan\\appdata\\local\\packages\\pythonsoftwarefoundation.python.3.11_qbz5n2kfra8p0\\localcache\\local-packages\\python311\\site-packages (from Jinja2>=3.1.2->flask) (2.1.5)\n"
          ]
        }
      ],
      "source": [
        "!pip install flask"
      ]
    },
    {
      "cell_type": "code",
      "execution_count": 121,
      "metadata": {
        "id": "EIsrzcfrN1qF"
      },
      "outputs": [],
      "source": [
        "from flask import Flask, request, jsonify\n",
        "import pickle\n",
        "import pandas as pd\n",
        "import numpy"
      ]
    },
    {
      "cell_type": "code",
      "execution_count": 122,
      "metadata": {
        "id": "G_bP-_rON5jX"
      },
      "outputs": [],
      "source": [
        "app = Flask(__name__)\n",
        "\n",
        "@app.route('/prediction_api', methods=[\"GET\"])\n",
        "def prediction_api():\n",
        "    try:\n",
        "        # Getting the parameters from the API call\n",
        "        Mileage_value = float(request.args.get('Mileage'))\n",
        "        Years_value = float(request.args.get('Years'))\n",
        "        Power_value = float(request.args.get('Power'))\n",
        "        Engine_value = float(request.args.get('Engine'))\n",
        "\n",
        "        # Calling the function to get predictions using the correct predictor names\n",
        "        prediction_from_api = FunctionGeneratePrediction(\n",
        "            inp_Years=Years_value,\n",
        "            inp_Mileage=Mileage_value,\n",
        "            inp_Engine=Engine_value,\n",
        "            inp_Power=Power_value\n",
        "        )\n",
        "\n",
        "        return prediction_from_api\n",
        "\n",
        "    except Exception as e:\n",
        "        return 'Something is not right!: ' + str(e)\n",
        "\n",
        "\n"
      ]
    },
    {
      "cell_type": "markdown",
      "metadata": {},
      "source": [
        "## Starting API engine"
      ]
    },
    {
      "cell_type": "code",
      "execution_count": 123,
      "metadata": {
        "colab": {
          "base_uri": "https://localhost:8080/"
        },
        "id": "GXRv4YgUP4TF",
        "outputId": "682218a0-bfcc-4abd-8dde-61fe9e1f09d6"
      },
      "outputs": [
        {
          "name": "stdout",
          "output_type": "stream",
          "text": [
            " * Serving Flask app '__main__'\n",
            " * Debug mode: on\n"
          ]
        },
        {
          "name": "stderr",
          "output_type": "stream",
          "text": [
            "WARNING: This is a development server. Do not use it in a production deployment. Use a production WSGI server instead.\n",
            " * Running on http://127.0.0.1:8000\n",
            "Press CTRL+C to quit\n",
            " * Restarting with watchdog (windowsapi)\n"
          ]
        },
        {
          "ename": "SystemExit",
          "evalue": "1",
          "output_type": "error",
          "traceback": [
            "An exception has occurred, use %tb to see the full traceback.\n",
            "\u001b[1;31mSystemExit\u001b[0m\u001b[1;31m:\u001b[0m 1\n"
          ]
        }
      ],
      "source": [
        "from flask import Flask\n",
        "\n",
        "app = Flask(__name__)\n",
        "\n",
        "# Define a route as an example\n",
        "@app.route('/')\n",
        "def index():\n",
        "    return \"Hello, World!\"\n",
        "\n",
        "# Error handler for any exception\n",
        "@app.errorhandler(Exception)\n",
        "def handle_exception(e):\n",
        "    # you can log the exception here if you want, for example:\n",
        "    # print(f\"An error occurred: {e}\")\n",
        "    return \"An internal error occurred\", 500\n",
        "\n",
        "if __name__ == '__main__':\n",
        "    # Set debug to True for development, change to False in production\n",
        "    app.run(debug=True, port=8000)\n"
      ]
    },
    {
      "cell_type": "code",
      "execution_count": 124,
      "metadata": {
        "colab": {
          "base_uri": "https://localhost:8080/",
          "height": 52
        },
        "id": "wDVMcdHOQYow",
        "outputId": "745ad96b-7649-4340-911c-87de33e8a693"
      },
      "outputs": [
        {
          "data": {
            "text/plain": [
              "'\\nSample URL to call the API\\nCopy and paste below URL in the web browser\\nhttp://127.0.0.1:9000/prediction_api?LSTAT=4.9&RM=6.5&PTRATIO=15.3\\n'"
            ]
          },
          "execution_count": 124,
          "metadata": {},
          "output_type": "execute_result"
        }
      ],
      "source": [
        "'''\n",
        "Sample URL to call the API\n",
        "Copy and paste below URL in the web browser\n",
        "http://127.0.0.1:9000/prediction_api?LSTAT=4.9&RM=6.5&PTRATIO=15.3\n",
        "'''"
      ]
    },
    {
      "cell_type": "code",
      "execution_count": 125,
      "metadata": {},
      "outputs": [
        {
          "name": "stdout",
          "output_type": "stream",
          "text": [
            "Error converting null bhp: could not convert string to float: 'null'\n",
            "Error converting null bhp: could not convert string to float: 'null'\n",
            "Error converting null bhp: could not convert string to float: 'null'\n",
            "Error converting null bhp: could not convert string to float: 'null'\n",
            "Error converting null bhp: could not convert string to float: 'null'\n",
            "Error converting null bhp: could not convert string to float: 'null'\n",
            "Error converting null bhp: could not convert string to float: 'null'\n",
            "Error converting null bhp: could not convert string to float: 'null'\n",
            "Error converting null bhp: could not convert string to float: 'null'\n",
            "Error converting null bhp: could not convert string to float: 'null'\n",
            "Error converting null bhp: could not convert string to float: 'null'\n",
            "Error converting null bhp: could not convert string to float: 'null'\n",
            "Error converting null bhp: could not convert string to float: 'null'\n",
            "Error converting null bhp: could not convert string to float: 'null'\n",
            "Error converting null bhp: could not convert string to float: 'null'\n",
            "Error converting null bhp: could not convert string to float: 'null'\n",
            "Error converting null bhp: could not convert string to float: 'null'\n",
            "Error converting null bhp: could not convert string to float: 'null'\n",
            "Error converting null bhp: could not convert string to float: 'null'\n",
            "Error converting null bhp: could not convert string to float: 'null'\n",
            "Error converting null bhp: could not convert string to float: 'null'\n",
            "Error converting null bhp: could not convert string to float: 'null'\n",
            "Error converting null bhp: could not convert string to float: 'null'\n",
            "Error converting null bhp: could not convert string to float: 'null'\n",
            "Error converting null bhp: could not convert string to float: 'null'\n",
            "Error converting null bhp: could not convert string to float: 'null'\n",
            "Error converting null bhp: could not convert string to float: 'null'\n",
            "Error converting null bhp: could not convert string to float: 'null'\n",
            "Error converting null bhp: could not convert string to float: 'null'\n",
            "Error converting null bhp: could not convert string to float: 'null'\n",
            "Error converting null bhp: could not convert string to float: 'null'\n",
            "Error converting null bhp: could not convert string to float: 'null'\n",
            "Error converting null bhp: could not convert string to float: 'null'\n",
            "Error converting null bhp: could not convert string to float: 'null'\n",
            "Error converting null bhp: could not convert string to float: 'null'\n",
            "Error converting null bhp: could not convert string to float: 'null'\n",
            "Error converting null bhp: could not convert string to float: 'null'\n",
            "Error converting null bhp: could not convert string to float: 'null'\n",
            "Error converting null bhp: could not convert string to float: 'null'\n",
            "Error converting null bhp: could not convert string to float: 'null'\n",
            "Error converting null bhp: could not convert string to float: 'null'\n",
            "Error converting null bhp: could not convert string to float: 'null'\n",
            "Error converting null bhp: could not convert string to float: 'null'\n",
            "Error converting null bhp: could not convert string to float: 'null'\n",
            "Error converting null bhp: could not convert string to float: 'null'\n",
            "Error converting null bhp: could not convert string to float: 'null'\n",
            "Error converting null bhp: could not convert string to float: 'null'\n",
            "Error converting null bhp: could not convert string to float: 'null'\n",
            "Error converting null bhp: could not convert string to float: 'null'\n",
            "Error converting null bhp: could not convert string to float: 'null'\n",
            "Error converting null bhp: could not convert string to float: 'null'\n",
            "Error converting null bhp: could not convert string to float: 'null'\n",
            "Error converting null bhp: could not convert string to float: 'null'\n",
            "Error converting null bhp: could not convert string to float: 'null'\n",
            "Error converting null bhp: could not convert string to float: 'null'\n",
            "Error converting null bhp: could not convert string to float: 'null'\n",
            "Error converting null bhp: could not convert string to float: 'null'\n",
            "Error converting null bhp: could not convert string to float: 'null'\n",
            "Error converting null bhp: could not convert string to float: 'null'\n",
            "Error converting null bhp: could not convert string to float: 'null'\n",
            "Error converting null bhp: could not convert string to float: 'null'\n",
            "Error converting null bhp: could not convert string to float: 'null'\n",
            "Error converting null bhp: could not convert string to float: 'null'\n",
            "Error converting null bhp: could not convert string to float: 'null'\n",
            "Error converting null bhp: could not convert string to float: 'null'\n",
            "Error converting null bhp: could not convert string to float: 'null'\n",
            "Error converting null bhp: could not convert string to float: 'null'\n",
            "Error converting null bhp: could not convert string to float: 'null'\n",
            "Error converting null bhp: could not convert string to float: 'null'\n",
            "Error converting null bhp: could not convert string to float: 'null'\n",
            "Error converting null bhp: could not convert string to float: 'null'\n",
            "Error converting null bhp: could not convert string to float: 'null'\n",
            "Error converting null bhp: could not convert string to float: 'null'\n",
            "Error converting null bhp: could not convert string to float: 'null'\n",
            "Error converting null bhp: could not convert string to float: 'null'\n",
            "Error converting null bhp: could not convert string to float: 'null'\n",
            "Error converting null bhp: could not convert string to float: 'null'\n",
            "Error converting null bhp: could not convert string to float: 'null'\n",
            "Error converting null bhp: could not convert string to float: 'null'\n",
            "Error converting null bhp: could not convert string to float: 'null'\n",
            "Error converting null bhp: could not convert string to float: 'null'\n",
            "Error converting null bhp: could not convert string to float: 'null'\n",
            "Error converting null bhp: could not convert string to float: 'null'\n",
            "Error converting null bhp: could not convert string to float: 'null'\n",
            "Error converting null bhp: could not convert string to float: 'null'\n",
            "Error converting null bhp: could not convert string to float: 'null'\n",
            "Error converting null bhp: could not convert string to float: 'null'\n",
            "Error converting null bhp: could not convert string to float: 'null'\n",
            "Error converting null bhp: could not convert string to float: 'null'\n",
            "Error converting null bhp: could not convert string to float: 'null'\n",
            "Error converting null bhp: could not convert string to float: 'null'\n",
            "Error converting null bhp: could not convert string to float: 'null'\n",
            "Error converting null bhp: could not convert string to float: 'null'\n",
            "Error converting null bhp: could not convert string to float: 'null'\n",
            "Error converting null bhp: could not convert string to float: 'null'\n",
            "Error converting null bhp: could not convert string to float: 'null'\n",
            "Error converting null bhp: could not convert string to float: 'null'\n",
            "Error converting null bhp: could not convert string to float: 'null'\n",
            "Error converting null bhp: could not convert string to float: 'null'\n",
            "Error converting null bhp: could not convert string to float: 'null'\n",
            "Error converting null bhp: could not convert string to float: 'null'\n",
            "Error converting null bhp: could not convert string to float: 'null'\n",
            "Error converting null bhp: could not convert string to float: 'null'\n",
            "Error converting null bhp: could not convert string to float: 'null'\n",
            "Error converting null bhp: could not convert string to float: 'null'\n",
            "Error converting null bhp: could not convert string to float: 'null'\n",
            "Error converting null bhp: could not convert string to float: 'null'\n"
          ]
        }
      ],
      "source": [
        "import tkinter as tk\n",
        "from tkinter import messagebox\n",
        "from tkinter import ttk\n",
        "import pandas as pd\n",
        "from sklearn.model_selection import train_test_split\n",
        "from xgboost import XGBRegressor\n",
        "\n",
        "class CarPricePredictionApp:\n",
        "    def __init__(self, master):\n",
        "        self.master = master\n",
        "        self.master.title('Car Price Prediction')\n",
        "        self.data = pd.read_csv(r'C:\\Users\\Ahsan\\OneDrive\\Desktop\\Assignement 9\\CarData.csv')\n",
        "\n",
        "        # Apply data cleaning\n",
        "        columns_to_clean = ['Mileage', 'Power', 'Engine']\n",
        "        for column in columns_to_clean:\n",
        "            self.data[column] = self.data[column].apply(clean_numeric)\n",
        "\n",
        "        # Handle missing data\n",
        "        self.data.dropna(inplace=True)  # or fill as needed\n",
        "\n",
        "        self.sliders = []\n",
        "\n",
        "        # Prepare data for model\n",
        "        self.X = self.data[['Year', 'Mileage', 'Power', 'Engine']].values\n",
        "        self.y = self.data['Price'].values\n",
        "\n",
        "        self.X_train, self.X_test, self.y_train, self.y_test = train_test_split(self.X, self.y, test_size=0.2, random_state=42)\n",
        "\n",
        "        self.model = XGBRegressor()\n",
        "        self.model.fit(self.X_train, self.y_train)\n",
        "\n",
        "        self.create_widgets()\n",
        "\n",
        "\n",
        "    def create_widgets(self):\n",
        "        # Using the feature names directly from the dataframe\n",
        "        feature_names = ['Year', 'Mileage', 'Power', 'Engine']\n",
        "        for i, column in enumerate(feature_names):\n",
        "            label = tk.Label(self.master, text=column + ': ')\n",
        "            label.grid(row=i, column=0)\n",
        "            current_val_label = tk.Label(self.master, text='0.0')\n",
        "            current_val_label.grid(row=i, column=2)\n",
        "            slider = ttk.Scale(self.master, from_=self.data[column].min(), to=self.data[column].max(), orient=\"horizontal\",\n",
        "                               command=lambda val, label=current_val_label: label.config(text=f'{float(val):.2f}'))\n",
        "            slider.grid(row=i, column=1)\n",
        "            self.sliders.append((slider, current_val_label))\n",
        "\n",
        "        predict_button = tk.Button(self.master, text='Predict Price', command=self.predict_price)\n",
        "        predict_button.grid(row=len(feature_names), columnspan=3)\n",
        "\n",
        "    def predict_price(self):\n",
        "        inputs = [float(slider.get()) for slider, _ in self.sliders]\n",
        "        price = self.model.predict([inputs])\n",
        "        messagebox.showinfo('Predicted Price', f'The predicted car price is ${price[0]:.2f}')\n",
        "\n",
        "if __name__ == '__main__':\n",
        "    root = tk.Tk()\n",
        "    app = CarPricePredictionApp(root)\n",
        "    root.mainloop()\n"
      ]
    }
  ],
  "metadata": {
    "colab": {
      "provenance": []
    },
    "kernelspec": {
      "display_name": "Python 3",
      "name": "python3"
    },
    "language_info": {
      "codemirror_mode": {
        "name": "ipython",
        "version": 3
      },
      "file_extension": ".py",
      "mimetype": "text/x-python",
      "name": "python",
      "nbconvert_exporter": "python",
      "pygments_lexer": "ipython3",
      "version": "3.11.9"
    }
  },
  "nbformat": 4,
  "nbformat_minor": 0
}
